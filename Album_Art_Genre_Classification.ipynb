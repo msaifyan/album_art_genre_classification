{
 "cells": [
  {
   "cell_type": "markdown",
   "id": "2db07587-9d4d-4269-81b5-7c0757e8ecd2",
   "metadata": {},
   "source": [
    "<div style=\"text-align: center\"><font size=\"3\">\n",
    " <b>Genre Classification Based on Album Art Using Convolutional Neural Networks</b>\n",
    "<br> Cassidy Newberry & Mateen Saifyan\n",
    "</font>\n",
    "</div>"
   ]
  },
  {
   "cell_type": "code",
   "execution_count": 128,
   "id": "f8223768-70da-4f0e-8e3b-c65986380ba1",
   "metadata": {},
   "outputs": [],
   "source": [
    "import numpy as np\n",
    "import pandas as pd\n",
    "import torch\n",
    "import os\n",
    "import shutil\n",
    "\n",
    "from sklearn.model_selection import train_test_split\n",
    "from torch.utils.data import Dataset\n",
    "from torch.utils.data import DataLoader\n",
    "import torch.nn as nn\n",
    "import torch.optim as optim\n",
    "import cv2\n",
    "\n",
    "import torchvision\n",
    "\n",
    "import albumentations as A\n",
    "\n",
    "from tqdm.notebook import tqdm\n",
    "from torchvision import models, transforms\n",
    "import matplotlib.pyplot as plt"
   ]
  },
  {
   "cell_type": "markdown",
   "id": "a3059d58-d966-4402-9c88-57eae9f262e1",
   "metadata": {},
   "source": [
    "## Data"
   ]
  },
  {
   "cell_type": "markdown",
   "id": "6c25fccc-7831-4684-b125-25545a7f84f3",
   "metadata": {},
   "source": [
    "### **Pre-Processing**"
   ]
  },
  {
   "cell_type": "markdown",
   "id": "5dfa9423-59fa-4f2f-a0fd-4391bc04b0e2",
   "metadata": {},
   "source": [
    "First we need to create a dataframe that correctly maps images and their file paths to the appropriate genre label. We will do this by joining the amazon_id from the MuMu single genre label dataset with the Amazon metadata dataset, which includes the url for album covers. We will then take all unique album covers and create a dataframe consisting of the unique album covers of the top 12 genres in the dataset."
   ]
  },
  {
   "cell_type": "code",
   "execution_count": 63,
   "id": "cf9f9359-6623-4d40-ade9-cd679f9b8356",
   "metadata": {},
   "outputs": [],
   "source": [
    "df = pd.read_csv('MuMu_dataset/MuMu_dataset_single-label.csv')"
   ]
  },
  {
   "cell_type": "code",
   "execution_count": 64,
   "id": "b56f649c-451b-43e3-9897-f0bc921660e7",
   "metadata": {},
   "outputs": [
    {
     "data": {
      "text/html": [
       "<div>\n",
       "<style scoped>\n",
       "    .dataframe tbody tr th:only-of-type {\n",
       "        vertical-align: middle;\n",
       "    }\n",
       "\n",
       "    .dataframe tbody tr th {\n",
       "        vertical-align: top;\n",
       "    }\n",
       "\n",
       "    .dataframe thead th {\n",
       "        text-align: right;\n",
       "    }\n",
       "</style>\n",
       "<table border=\"1\" class=\"dataframe\">\n",
       "  <thead>\n",
       "    <tr style=\"text-align: right;\">\n",
       "      <th></th>\n",
       "      <th>amazon_id</th>\n",
       "      <th>album_mbid</th>\n",
       "      <th>MSD_track_id</th>\n",
       "      <th>recording_mbid</th>\n",
       "      <th>artist_mbid</th>\n",
       "      <th>genres</th>\n",
       "    </tr>\n",
       "  </thead>\n",
       "  <tbody>\n",
       "    <tr>\n",
       "      <th>0</th>\n",
       "      <td>B0018ZB6ZO</td>\n",
       "      <td>0164b5ce-42f8-46bf-b140-61ecd2ed449e</td>\n",
       "      <td>TRYDUXK12903CE0C37</td>\n",
       "      <td>66dd470f-4c4f-4caa-b8d4-2ebc80a83cb6</td>\n",
       "      <td>7434b85a-4a06-42ba-9e1d-9c568c044842</td>\n",
       "      <td>Dance &amp; Electronic</td>\n",
       "    </tr>\n",
       "    <tr>\n",
       "      <th>1</th>\n",
       "      <td>B0018ZB6ZO</td>\n",
       "      <td>0164b5ce-42f8-46bf-b140-61ecd2ed449e</td>\n",
       "      <td>TRGWXYX128F426E27F</td>\n",
       "      <td>b45aef36-c3a3-42f2-90fb-728e8b3c54a2</td>\n",
       "      <td>7434b85a-4a06-42ba-9e1d-9c568c044842</td>\n",
       "      <td>Dance &amp; Electronic</td>\n",
       "    </tr>\n",
       "  </tbody>\n",
       "</table>\n",
       "</div>"
      ],
      "text/plain": [
       "    amazon_id                            album_mbid        MSD_track_id  \\\n",
       "0  B0018ZB6ZO  0164b5ce-42f8-46bf-b140-61ecd2ed449e  TRYDUXK12903CE0C37   \n",
       "1  B0018ZB6ZO  0164b5ce-42f8-46bf-b140-61ecd2ed449e  TRGWXYX128F426E27F   \n",
       "\n",
       "                         recording_mbid                           artist_mbid  \\\n",
       "0  66dd470f-4c4f-4caa-b8d4-2ebc80a83cb6  7434b85a-4a06-42ba-9e1d-9c568c044842   \n",
       "1  b45aef36-c3a3-42f2-90fb-728e8b3c54a2  7434b85a-4a06-42ba-9e1d-9c568c044842   \n",
       "\n",
       "               genres  \n",
       "0  Dance & Electronic  \n",
       "1  Dance & Electronic  "
      ]
     },
     "execution_count": 64,
     "metadata": {},
     "output_type": "execute_result"
    }
   ],
   "source": [
    "df.head(2)"
   ]
  },
  {
   "cell_type": "code",
   "execution_count": 65,
   "id": "e1d0b779-25b1-4cf9-b2c2-1a5bf1217189",
   "metadata": {},
   "outputs": [
    {
     "data": {
      "text/plain": [
       "12087"
      ]
     },
     "execution_count": 65,
     "metadata": {},
     "output_type": "execute_result"
    }
   ],
   "source": [
    "len(df)"
   ]
  },
  {
   "cell_type": "code",
   "execution_count": 67,
   "id": "1e92f0c4-7326-44bb-bf85-52b7e314805b",
   "metadata": {},
   "outputs": [
    {
     "data": {
      "text/plain": [
       "2321"
      ]
     },
     "execution_count": 67,
     "metadata": {},
     "output_type": "execute_result"
    }
   ],
   "source": [
    "df['album_mbid'].nunique()"
   ]
  },
  {
   "cell_type": "code",
   "execution_count": 68,
   "id": "91ce2086-a637-4993-9289-6475b7f35be0",
   "metadata": {},
   "outputs": [
    {
     "data": {
      "text/plain": [
       "16"
      ]
     },
     "execution_count": 68,
     "metadata": {},
     "output_type": "execute_result"
    }
   ],
   "source": [
    "df['genres'].nunique()"
   ]
  },
  {
   "cell_type": "code",
   "execution_count": 89,
   "id": "428dca49-fd86-498e-9e45-37f9cb0ed608",
   "metadata": {},
   "outputs": [
    {
     "data": {
      "text/plain": [
       "Dance & Electronic    518\n",
       "Rock                  391\n",
       "Jazz                  266\n",
       "Alternative Rock      260\n",
       "Country               151\n",
       "Pop                   139\n",
       "R&B                   127\n",
       "Metal                 119\n",
       "Rap & Hip-Hop         103\n",
       "Latin Music            95\n",
       "Blues                  66\n",
       "Folk                   32\n",
       "Name: genres, dtype: int64"
      ]
     },
     "execution_count": 89,
     "metadata": {},
     "output_type": "execute_result"
    }
   ],
   "source": [
    "# DATA CLEANING\n",
    "df_reduced = df.drop_duplicates(['amazon_id', 'album_mbid']) #only one instance of album art\n",
    "top_genres = list(df_reduced['genres'].value_counts()[-4:].index)  #top 12 genres\n",
    "df_top_genres = df_reduced[~df_reduced['genres'].isin(top_genres)].reset_index(drop=True)\n",
    "df_top_genres['genres'].value_counts()"
   ]
  },
  {
   "cell_type": "code",
   "execution_count": 90,
   "id": "b69e00e3-8aac-45ef-bad3-431922f650a8",
   "metadata": {},
   "outputs": [
    {
     "data": {
      "text/plain": [
       "2267"
      ]
     },
     "execution_count": 90,
     "metadata": {},
     "output_type": "execute_result"
    }
   ],
   "source": [
    "len(df_top_genres)"
   ]
  },
  {
   "cell_type": "code",
   "execution_count": 92,
   "id": "cfb11f45-4f63-4068-9c3f-7216c524618f",
   "metadata": {},
   "outputs": [
    {
     "data": {
      "text/html": [
       "<div>\n",
       "<style scoped>\n",
       "    .dataframe tbody tr th:only-of-type {\n",
       "        vertical-align: middle;\n",
       "    }\n",
       "\n",
       "    .dataframe tbody tr th {\n",
       "        vertical-align: top;\n",
       "    }\n",
       "\n",
       "    .dataframe thead th {\n",
       "        text-align: right;\n",
       "    }\n",
       "</style>\n",
       "<table border=\"1\" class=\"dataframe\">\n",
       "  <thead>\n",
       "    <tr style=\"text-align: right;\">\n",
       "      <th></th>\n",
       "      <th>amazon_id</th>\n",
       "      <th>album_mbid</th>\n",
       "      <th>MSD_track_id</th>\n",
       "      <th>recording_mbid</th>\n",
       "      <th>artist_mbid</th>\n",
       "      <th>genres</th>\n",
       "    </tr>\n",
       "  </thead>\n",
       "  <tbody>\n",
       "    <tr>\n",
       "      <th>0</th>\n",
       "      <td>B0018ZB6ZO</td>\n",
       "      <td>0164b5ce-42f8-46bf-b140-61ecd2ed449e</td>\n",
       "      <td>TRYDUXK12903CE0C37</td>\n",
       "      <td>66dd470f-4c4f-4caa-b8d4-2ebc80a83cb6</td>\n",
       "      <td>7434b85a-4a06-42ba-9e1d-9c568c044842</td>\n",
       "      <td>Dance &amp; Electronic</td>\n",
       "    </tr>\n",
       "    <tr>\n",
       "      <th>1</th>\n",
       "      <td>B000003HGR</td>\n",
       "      <td>7fe6e337-9115-3719-855b-0441c42a2c36</td>\n",
       "      <td>TRVMIIJ12903CDBF1D</td>\n",
       "      <td>36b15f42-b441-4d64-8ba9-ca264ed1c6f1</td>\n",
       "      <td>1b54e90c-638e-4fdd-a20e-4ab09db9fdaf</td>\n",
       "      <td>Alternative Rock</td>\n",
       "    </tr>\n",
       "    <tr>\n",
       "      <th>2</th>\n",
       "      <td>B0000564CN</td>\n",
       "      <td>d825b1ab-e260-3eb7-b486-5cb58ba0391f</td>\n",
       "      <td>TRPDZTD12903CBFC4B</td>\n",
       "      <td>aaf7c510-dc3d-4d39-81b0-81acf226fa09</td>\n",
       "      <td>570938b4-8fe5-44f9-ab43-9438feb03c6f</td>\n",
       "      <td>R&amp;B</td>\n",
       "    </tr>\n",
       "  </tbody>\n",
       "</table>\n",
       "</div>"
      ],
      "text/plain": [
       "    amazon_id                            album_mbid        MSD_track_id  \\\n",
       "0  B0018ZB6ZO  0164b5ce-42f8-46bf-b140-61ecd2ed449e  TRYDUXK12903CE0C37   \n",
       "1  B000003HGR  7fe6e337-9115-3719-855b-0441c42a2c36  TRVMIIJ12903CDBF1D   \n",
       "2  B0000564CN  d825b1ab-e260-3eb7-b486-5cb58ba0391f  TRPDZTD12903CBFC4B   \n",
       "\n",
       "                         recording_mbid                           artist_mbid  \\\n",
       "0  66dd470f-4c4f-4caa-b8d4-2ebc80a83cb6  7434b85a-4a06-42ba-9e1d-9c568c044842   \n",
       "1  36b15f42-b441-4d64-8ba9-ca264ed1c6f1  1b54e90c-638e-4fdd-a20e-4ab09db9fdaf   \n",
       "2  aaf7c510-dc3d-4d39-81b0-81acf226fa09  570938b4-8fe5-44f9-ab43-9438feb03c6f   \n",
       "\n",
       "               genres  \n",
       "0  Dance & Electronic  \n",
       "1    Alternative Rock  \n",
       "2                 R&B  "
      ]
     },
     "execution_count": 92,
     "metadata": {},
     "output_type": "execute_result"
    }
   ],
   "source": [
    "df_top_genres.head(3)"
   ]
  },
  {
   "cell_type": "code",
   "execution_count": 74,
   "id": "f687eb35-09e1-4074-bf91-059251668b07",
   "metadata": {},
   "outputs": [
    {
     "data": {
      "text/html": [
       "<div>\n",
       "<style scoped>\n",
       "    .dataframe tbody tr th:only-of-type {\n",
       "        vertical-align: middle;\n",
       "    }\n",
       "\n",
       "    .dataframe tbody tr th {\n",
       "        vertical-align: top;\n",
       "    }\n",
       "\n",
       "    .dataframe thead th {\n",
       "        text-align: right;\n",
       "    }\n",
       "</style>\n",
       "<table border=\"1\" class=\"dataframe\">\n",
       "  <thead>\n",
       "    <tr style=\"text-align: right;\">\n",
       "      <th></th>\n",
       "      <th>title</th>\n",
       "      <th>price</th>\n",
       "      <th>imUrl</th>\n",
       "      <th>amazon_id</th>\n",
       "      <th>related</th>\n",
       "      <th>categories</th>\n",
       "      <th>salesRank</th>\n",
       "      <th>brand</th>\n",
       "    </tr>\n",
       "  </thead>\n",
       "  <tbody>\n",
       "    <tr>\n",
       "      <th>31468</th>\n",
       "      <td>NaN</td>\n",
       "      <td>34.45</td>\n",
       "      <td>http://ecx.images-amazon.com/images/I/51UgnZe%...</td>\n",
       "      <td>B00KE5M5IQ</td>\n",
       "      <td>{'also_bought': [], 'bought_together': ['B00K6...</td>\n",
       "      <td>[[CDs &amp; Vinyl, Latin Music, Latin Pop]]</td>\n",
       "      <td>{'Music': 7262}</td>\n",
       "      <td>NaN</td>\n",
       "    </tr>\n",
       "    <tr>\n",
       "      <th>31469</th>\n",
       "      <td>NaN</td>\n",
       "      <td>15.39</td>\n",
       "      <td>http://ecx.images-amazon.com/images/I/51obnT4n...</td>\n",
       "      <td>B00KG10ZXU</td>\n",
       "      <td>{'also_bought': [], 'also_viewed': ['B00000265...</td>\n",
       "      <td>[[CDs &amp; Vinyl, Broadway &amp; Vocalists], [CDs &amp; V...</td>\n",
       "      <td>{'Music': 15508}</td>\n",
       "      <td>NaN</td>\n",
       "    </tr>\n",
       "    <tr>\n",
       "      <th>31470</th>\n",
       "      <td>NaN</td>\n",
       "      <td>NaN</td>\n",
       "      <td>http://ecx.images-amazon.com/images/I/51cOvY8o...</td>\n",
       "      <td>B00KOEQSTY</td>\n",
       "      <td>{'also_bought': [], 'buy_after_viewing': []}</td>\n",
       "      <td>[[CDs &amp; Vinyl, Pop], [CDs &amp; Vinyl, Rock]]</td>\n",
       "      <td>{'Music': 101106}</td>\n",
       "      <td>NaN</td>\n",
       "    </tr>\n",
       "  </tbody>\n",
       "</table>\n",
       "</div>"
      ],
      "text/plain": [
       "      title  price                                              imUrl  \\\n",
       "31468   NaN  34.45  http://ecx.images-amazon.com/images/I/51UgnZe%...   \n",
       "31469   NaN  15.39  http://ecx.images-amazon.com/images/I/51obnT4n...   \n",
       "31470   NaN    NaN  http://ecx.images-amazon.com/images/I/51cOvY8o...   \n",
       "\n",
       "        amazon_id                                            related  \\\n",
       "31468  B00KE5M5IQ  {'also_bought': [], 'bought_together': ['B00K6...   \n",
       "31469  B00KG10ZXU  {'also_bought': [], 'also_viewed': ['B00000265...   \n",
       "31470  B00KOEQSTY       {'also_bought': [], 'buy_after_viewing': []}   \n",
       "\n",
       "                                              categories          salesRank  \\\n",
       "31468            [[CDs & Vinyl, Latin Music, Latin Pop]]    {'Music': 7262}   \n",
       "31469  [[CDs & Vinyl, Broadway & Vocalists], [CDs & V...   {'Music': 15508}   \n",
       "31470          [[CDs & Vinyl, Pop], [CDs & Vinyl, Rock]]  {'Music': 101106}   \n",
       "\n",
       "      brand  \n",
       "31468   NaN  \n",
       "31469   NaN  \n",
       "31470   NaN  "
      ]
     },
     "execution_count": 74,
     "metadata": {},
     "output_type": "execute_result"
    }
   ],
   "source": [
    "df_img = pd.read_json('MuMu_dataset/amazon_metadata_MuMu.json')\n",
    "df_img.tail(3)"
   ]
  },
  {
   "cell_type": "code",
   "execution_count": 93,
   "id": "acf0bdb4-e5f2-480a-a86e-925d91ec7fd3",
   "metadata": {},
   "outputs": [],
   "source": [
    "#join the dataframes\n",
    "df_combined = df_top_genres.set_index('amazon_id').join(df_img.set_index('amazon_id'), on='amazon_id', how='inner')"
   ]
  },
  {
   "cell_type": "markdown",
   "id": "2229d0a4-feba-4629-a6c0-d0480156ef98",
   "metadata": {},
   "source": [
    "### **Download Data**"
   ]
  },
  {
   "cell_type": "markdown",
   "id": "9c24b798-3e01-4499-87b1-e3aad60607fe",
   "metadata": {},
   "source": [
    "Now the tricky part, we have to actually download the data using the URLs given by the DataFrame in order to build a proper dataset for our convolutional neural networks. We will iterate through each row and download the album art locally. We will then build a dataframe to track where this file is downloaded and the genre label associated with that file path so that we can iterate through each file individually in our dataset. "
   ]
  },
  {
   "cell_type": "code",
   "execution_count": 137,
   "id": "ea1bb75c-a0cb-4035-bb49-3f89faadad35",
   "metadata": {},
   "outputs": [],
   "source": [
    "def download_dataset(df, dir_name='train'):\n",
    "    file_df = pd.DataFrame(columns=['filepath', 'genre', 'data set'])\n",
    "    if os.path.exists(dir_name):\n",
    "        shutil.rmtree(dir_name)\n",
    "    os.mkdir(dir_name)\n",
    "    for genre in df['genres'].unique():\n",
    "        if os.path.exists(dir_name+'/'+genre):\n",
    "                shutil.rmtree(dir_name+'/'+genre)\n",
    "        os.mkdir(dir_name+'/'+genre)\n",
    "        for index, row in tqdm(df[df['genres'] == genre].iterrows()):\n",
    "            f_name = dir_name+'/'+genre+'/'+index+'.png'\n",
    "            file_df = file_df.append({'filepath': f_name, 'genre': row['genres'], 'data set': dir_name}, ignore_index=True)\n",
    "            response = requests.get(row['imUrl'])\n",
    "            f = open(f_name, 'wb')\n",
    "            f.write(response.content)\n",
    "            f.close()\n",
    "    return file_df"
   ]
  },
  {
   "cell_type": "code",
   "execution_count": 138,
   "id": "cef89749-4f0f-4d81-8ced-906296ba81bf",
   "metadata": {},
   "outputs": [],
   "source": [
    "df_train, df_valid = train_test_split(df_combined, test_size=0.2)"
   ]
  },
  {
   "cell_type": "code",
   "execution_count": 139,
   "id": "6525523b-c5e5-44c3-aa3b-a038d73561d5",
   "metadata": {},
   "outputs": [
    {
     "data": {
      "application/vnd.jupyter.widget-view+json": {
       "model_id": "03c9ed2a833e4c98adeae156a61b17a2",
       "version_major": 2,
       "version_minor": 0
      },
      "text/plain": [
       "0it [00:00, ?it/s]"
      ]
     },
     "metadata": {},
     "output_type": "display_data"
    },
    {
     "data": {
      "application/vnd.jupyter.widget-view+json": {
       "model_id": "3f51a116cb13437d87a28f15750bd63b",
       "version_major": 2,
       "version_minor": 0
      },
      "text/plain": [
       "0it [00:00, ?it/s]"
      ]
     },
     "metadata": {},
     "output_type": "display_data"
    },
    {
     "data": {
      "application/vnd.jupyter.widget-view+json": {
       "model_id": "7a0eb5f2e8324aea9d22cb49a9063ea9",
       "version_major": 2,
       "version_minor": 0
      },
      "text/plain": [
       "0it [00:00, ?it/s]"
      ]
     },
     "metadata": {},
     "output_type": "display_data"
    },
    {
     "data": {
      "application/vnd.jupyter.widget-view+json": {
       "model_id": "fc40ecf829de412aae92aaeac99a2a8e",
       "version_major": 2,
       "version_minor": 0
      },
      "text/plain": [
       "0it [00:00, ?it/s]"
      ]
     },
     "metadata": {},
     "output_type": "display_data"
    },
    {
     "data": {
      "application/vnd.jupyter.widget-view+json": {
       "model_id": "3f3532fb1ec84c82ab437250e8809252",
       "version_major": 2,
       "version_minor": 0
      },
      "text/plain": [
       "0it [00:00, ?it/s]"
      ]
     },
     "metadata": {},
     "output_type": "display_data"
    },
    {
     "data": {
      "application/vnd.jupyter.widget-view+json": {
       "model_id": "57c0119a83f34bd4bd28186f4024a435",
       "version_major": 2,
       "version_minor": 0
      },
      "text/plain": [
       "0it [00:00, ?it/s]"
      ]
     },
     "metadata": {},
     "output_type": "display_data"
    },
    {
     "data": {
      "application/vnd.jupyter.widget-view+json": {
       "model_id": "2662037ea44042f3ba73a994155088d4",
       "version_major": 2,
       "version_minor": 0
      },
      "text/plain": [
       "0it [00:00, ?it/s]"
      ]
     },
     "metadata": {},
     "output_type": "display_data"
    },
    {
     "data": {
      "application/vnd.jupyter.widget-view+json": {
       "model_id": "2f9f64db07294b19aa66049f250270d5",
       "version_major": 2,
       "version_minor": 0
      },
      "text/plain": [
       "0it [00:00, ?it/s]"
      ]
     },
     "metadata": {},
     "output_type": "display_data"
    },
    {
     "data": {
      "application/vnd.jupyter.widget-view+json": {
       "model_id": "7f8a4bd46c5041998451a7e649d2aa23",
       "version_major": 2,
       "version_minor": 0
      },
      "text/plain": [
       "0it [00:00, ?it/s]"
      ]
     },
     "metadata": {},
     "output_type": "display_data"
    },
    {
     "data": {
      "application/vnd.jupyter.widget-view+json": {
       "model_id": "48057e93bb204277959b8dfd120ecffb",
       "version_major": 2,
       "version_minor": 0
      },
      "text/plain": [
       "0it [00:00, ?it/s]"
      ]
     },
     "metadata": {},
     "output_type": "display_data"
    },
    {
     "data": {
      "application/vnd.jupyter.widget-view+json": {
       "model_id": "32f61aea341348f8ade87e87ea93943f",
       "version_major": 2,
       "version_minor": 0
      },
      "text/plain": [
       "0it [00:00, ?it/s]"
      ]
     },
     "metadata": {},
     "output_type": "display_data"
    },
    {
     "data": {
      "application/vnd.jupyter.widget-view+json": {
       "model_id": "d94ef9d910af4dca99e0ed638c50d85c",
       "version_major": 2,
       "version_minor": 0
      },
      "text/plain": [
       "0it [00:00, ?it/s]"
      ]
     },
     "metadata": {},
     "output_type": "display_data"
    }
   ],
   "source": [
    "df_train = download_dataset(df_train, 'train')"
   ]
  },
  {
   "cell_type": "code",
   "execution_count": 175,
   "id": "647016a0-d549-4a2e-a55e-9e7b2ea43549",
   "metadata": {},
   "outputs": [],
   "source": [
    "def build_dataframe(dir_name):\n",
    "    df_copy = pd.DataFrame(columns=['filepath', 'genre', 'data set'])\n",
    "    for genre in os.listdir(dir_name):\n",
    "        for file in os.listdir(dir_name+'/'+genre):\n",
    "            df_copy = df_copy.append({'filepath': dir_name+'/'+genre+'/'+file, 'genre': genre, 'data set': dir_name}, ignore_index=True)\n",
    "    return df_copy"
   ]
  },
  {
   "cell_type": "code",
   "execution_count": 264,
   "id": "0419f7f5-1907-41a7-ada5-cc6d4786ea9a",
   "metadata": {},
   "outputs": [],
   "source": [
    "def clean_data(df):\n",
    "    drop_index = []\n",
    "    for i, file in enumerate(df.filepath):\n",
    "        if cv2.imread(file) is None:\n",
    "            drop_index.append(i)\n",
    "    df = df.drop(df.index[drop_index]).reset_index(drop=True)\n",
    "    return df"
   ]
  },
  {
   "cell_type": "code",
   "execution_count": 265,
   "id": "7d74d081-854d-4c4d-980a-5e96f01bce69",
   "metadata": {},
   "outputs": [
    {
     "data": {
      "text/html": [
       "<div>\n",
       "<style scoped>\n",
       "    .dataframe tbody tr th:only-of-type {\n",
       "        vertical-align: middle;\n",
       "    }\n",
       "\n",
       "    .dataframe tbody tr th {\n",
       "        vertical-align: top;\n",
       "    }\n",
       "\n",
       "    .dataframe thead th {\n",
       "        text-align: right;\n",
       "    }\n",
       "</style>\n",
       "<table border=\"1\" class=\"dataframe\">\n",
       "  <thead>\n",
       "    <tr style=\"text-align: right;\">\n",
       "      <th></th>\n",
       "      <th>filepath</th>\n",
       "      <th>genre</th>\n",
       "      <th>data set</th>\n",
       "    </tr>\n",
       "  </thead>\n",
       "  <tbody>\n",
       "    <tr>\n",
       "      <th>0</th>\n",
       "      <td>train/Pop/B000008JZ9.png</td>\n",
       "      <td>Pop</td>\n",
       "      <td>train</td>\n",
       "    </tr>\n",
       "    <tr>\n",
       "      <th>1</th>\n",
       "      <td>train/Pop/B0013YTSFU.png</td>\n",
       "      <td>Pop</td>\n",
       "      <td>train</td>\n",
       "    </tr>\n",
       "    <tr>\n",
       "      <th>2</th>\n",
       "      <td>train/Pop/B001SJ6U1K.png</td>\n",
       "      <td>Pop</td>\n",
       "      <td>train</td>\n",
       "    </tr>\n",
       "    <tr>\n",
       "      <th>3</th>\n",
       "      <td>train/Pop/B00022UBNC.png</td>\n",
       "      <td>Pop</td>\n",
       "      <td>train</td>\n",
       "    </tr>\n",
       "    <tr>\n",
       "      <th>4</th>\n",
       "      <td>train/Pop/B007XNAQQ0.png</td>\n",
       "      <td>Pop</td>\n",
       "      <td>train</td>\n",
       "    </tr>\n",
       "    <tr>\n",
       "      <th>...</th>\n",
       "      <td>...</td>\n",
       "      <td>...</td>\n",
       "      <td>...</td>\n",
       "    </tr>\n",
       "    <tr>\n",
       "      <th>1809</th>\n",
       "      <td>train/Jazz/B000JBWUH6.png</td>\n",
       "      <td>Jazz</td>\n",
       "      <td>train</td>\n",
       "    </tr>\n",
       "    <tr>\n",
       "      <th>1810</th>\n",
       "      <td>train/Jazz/B000U0MJAO.png</td>\n",
       "      <td>Jazz</td>\n",
       "      <td>train</td>\n",
       "    </tr>\n",
       "    <tr>\n",
       "      <th>1811</th>\n",
       "      <td>train/Jazz/B008HLI4KW.png</td>\n",
       "      <td>Jazz</td>\n",
       "      <td>train</td>\n",
       "    </tr>\n",
       "    <tr>\n",
       "      <th>1812</th>\n",
       "      <td>train/Jazz/B000000GLF.png</td>\n",
       "      <td>Jazz</td>\n",
       "      <td>train</td>\n",
       "    </tr>\n",
       "    <tr>\n",
       "      <th>1813</th>\n",
       "      <td>train/Jazz/B001E3VJQ6.png</td>\n",
       "      <td>Jazz</td>\n",
       "      <td>train</td>\n",
       "    </tr>\n",
       "  </tbody>\n",
       "</table>\n",
       "<p>1814 rows × 3 columns</p>\n",
       "</div>"
      ],
      "text/plain": [
       "                       filepath genre data set\n",
       "0      train/Pop/B000008JZ9.png   Pop    train\n",
       "1      train/Pop/B0013YTSFU.png   Pop    train\n",
       "2      train/Pop/B001SJ6U1K.png   Pop    train\n",
       "3      train/Pop/B00022UBNC.png   Pop    train\n",
       "4      train/Pop/B007XNAQQ0.png   Pop    train\n",
       "...                         ...   ...      ...\n",
       "1809  train/Jazz/B000JBWUH6.png  Jazz    train\n",
       "1810  train/Jazz/B000U0MJAO.png  Jazz    train\n",
       "1811  train/Jazz/B008HLI4KW.png  Jazz    train\n",
       "1812  train/Jazz/B000000GLF.png  Jazz    train\n",
       "1813  train/Jazz/B001E3VJQ6.png  Jazz    train\n",
       "\n",
       "[1814 rows x 3 columns]"
      ]
     },
     "execution_count": 265,
     "metadata": {},
     "output_type": "execute_result"
    }
   ],
   "source": [
    "df_train = build_dataframe('train')\n",
    "df_train"
   ]
  },
  {
   "cell_type": "code",
   "execution_count": 266,
   "id": "7ba6945f-f521-415e-adc6-b5a971fc77f0",
   "metadata": {},
   "outputs": [
    {
     "data": {
      "text/html": [
       "<div>\n",
       "<style scoped>\n",
       "    .dataframe tbody tr th:only-of-type {\n",
       "        vertical-align: middle;\n",
       "    }\n",
       "\n",
       "    .dataframe tbody tr th {\n",
       "        vertical-align: top;\n",
       "    }\n",
       "\n",
       "    .dataframe thead th {\n",
       "        text-align: right;\n",
       "    }\n",
       "</style>\n",
       "<table border=\"1\" class=\"dataframe\">\n",
       "  <thead>\n",
       "    <tr style=\"text-align: right;\">\n",
       "      <th></th>\n",
       "      <th>filepath</th>\n",
       "      <th>genre</th>\n",
       "      <th>data set</th>\n",
       "    </tr>\n",
       "  </thead>\n",
       "  <tbody>\n",
       "    <tr>\n",
       "      <th>0</th>\n",
       "      <td>train/Pop/B000008JZ9.png</td>\n",
       "      <td>Pop</td>\n",
       "      <td>train</td>\n",
       "    </tr>\n",
       "    <tr>\n",
       "      <th>1</th>\n",
       "      <td>train/Pop/B0013YTSFU.png</td>\n",
       "      <td>Pop</td>\n",
       "      <td>train</td>\n",
       "    </tr>\n",
       "    <tr>\n",
       "      <th>2</th>\n",
       "      <td>train/Pop/B001SJ6U1K.png</td>\n",
       "      <td>Pop</td>\n",
       "      <td>train</td>\n",
       "    </tr>\n",
       "    <tr>\n",
       "      <th>3</th>\n",
       "      <td>train/Pop/B00022UBNC.png</td>\n",
       "      <td>Pop</td>\n",
       "      <td>train</td>\n",
       "    </tr>\n",
       "    <tr>\n",
       "      <th>4</th>\n",
       "      <td>train/Pop/B007XNAQQ0.png</td>\n",
       "      <td>Pop</td>\n",
       "      <td>train</td>\n",
       "    </tr>\n",
       "    <tr>\n",
       "      <th>...</th>\n",
       "      <td>...</td>\n",
       "      <td>...</td>\n",
       "      <td>...</td>\n",
       "    </tr>\n",
       "    <tr>\n",
       "      <th>1750</th>\n",
       "      <td>train/Jazz/B000JBWUH6.png</td>\n",
       "      <td>Jazz</td>\n",
       "      <td>train</td>\n",
       "    </tr>\n",
       "    <tr>\n",
       "      <th>1751</th>\n",
       "      <td>train/Jazz/B000U0MJAO.png</td>\n",
       "      <td>Jazz</td>\n",
       "      <td>train</td>\n",
       "    </tr>\n",
       "    <tr>\n",
       "      <th>1752</th>\n",
       "      <td>train/Jazz/B008HLI4KW.png</td>\n",
       "      <td>Jazz</td>\n",
       "      <td>train</td>\n",
       "    </tr>\n",
       "    <tr>\n",
       "      <th>1753</th>\n",
       "      <td>train/Jazz/B000000GLF.png</td>\n",
       "      <td>Jazz</td>\n",
       "      <td>train</td>\n",
       "    </tr>\n",
       "    <tr>\n",
       "      <th>1754</th>\n",
       "      <td>train/Jazz/B001E3VJQ6.png</td>\n",
       "      <td>Jazz</td>\n",
       "      <td>train</td>\n",
       "    </tr>\n",
       "  </tbody>\n",
       "</table>\n",
       "<p>1755 rows × 3 columns</p>\n",
       "</div>"
      ],
      "text/plain": [
       "                       filepath genre data set\n",
       "0      train/Pop/B000008JZ9.png   Pop    train\n",
       "1      train/Pop/B0013YTSFU.png   Pop    train\n",
       "2      train/Pop/B001SJ6U1K.png   Pop    train\n",
       "3      train/Pop/B00022UBNC.png   Pop    train\n",
       "4      train/Pop/B007XNAQQ0.png   Pop    train\n",
       "...                         ...   ...      ...\n",
       "1750  train/Jazz/B000JBWUH6.png  Jazz    train\n",
       "1751  train/Jazz/B000U0MJAO.png  Jazz    train\n",
       "1752  train/Jazz/B008HLI4KW.png  Jazz    train\n",
       "1753  train/Jazz/B000000GLF.png  Jazz    train\n",
       "1754  train/Jazz/B001E3VJQ6.png  Jazz    train\n",
       "\n",
       "[1755 rows x 3 columns]"
      ]
     },
     "execution_count": 266,
     "metadata": {},
     "output_type": "execute_result"
    }
   ],
   "source": [
    "df_train = clean_data(df_train)\n",
    "df_train"
   ]
  },
  {
   "cell_type": "code",
   "execution_count": 164,
   "id": "49bf5a4a-c26b-427d-8c8e-93a388724ffd",
   "metadata": {},
   "outputs": [
    {
     "data": {
      "application/vnd.jupyter.widget-view+json": {
       "model_id": "827c4faa9002465a94716b952b807113",
       "version_major": 2,
       "version_minor": 0
      },
      "text/plain": [
       "0it [00:00, ?it/s]"
      ]
     },
     "metadata": {},
     "output_type": "display_data"
    },
    {
     "data": {
      "application/vnd.jupyter.widget-view+json": {
       "model_id": "696fc4b2749d4c079d5757e5432ba28f",
       "version_major": 2,
       "version_minor": 0
      },
      "text/plain": [
       "0it [00:00, ?it/s]"
      ]
     },
     "metadata": {},
     "output_type": "display_data"
    },
    {
     "data": {
      "application/vnd.jupyter.widget-view+json": {
       "model_id": "ec1e6b8e48004f97ada962c98d82cdda",
       "version_major": 2,
       "version_minor": 0
      },
      "text/plain": [
       "0it [00:00, ?it/s]"
      ]
     },
     "metadata": {},
     "output_type": "display_data"
    },
    {
     "data": {
      "application/vnd.jupyter.widget-view+json": {
       "model_id": "e3ba7b984e8749eda5404ae924666328",
       "version_major": 2,
       "version_minor": 0
      },
      "text/plain": [
       "0it [00:00, ?it/s]"
      ]
     },
     "metadata": {},
     "output_type": "display_data"
    },
    {
     "data": {
      "application/vnd.jupyter.widget-view+json": {
       "model_id": "d975813dee7c472ab3fdfb2a6736b173",
       "version_major": 2,
       "version_minor": 0
      },
      "text/plain": [
       "0it [00:00, ?it/s]"
      ]
     },
     "metadata": {},
     "output_type": "display_data"
    },
    {
     "data": {
      "application/vnd.jupyter.widget-view+json": {
       "model_id": "7795c11fa0d547eea76bbdab3166345b",
       "version_major": 2,
       "version_minor": 0
      },
      "text/plain": [
       "0it [00:00, ?it/s]"
      ]
     },
     "metadata": {},
     "output_type": "display_data"
    },
    {
     "data": {
      "application/vnd.jupyter.widget-view+json": {
       "model_id": "03f3a9a8fe9a4b5695e0b75a046bf0d1",
       "version_major": 2,
       "version_minor": 0
      },
      "text/plain": [
       "0it [00:00, ?it/s]"
      ]
     },
     "metadata": {},
     "output_type": "display_data"
    },
    {
     "data": {
      "application/vnd.jupyter.widget-view+json": {
       "model_id": "0767c854ac24438eb9e47ce932df3238",
       "version_major": 2,
       "version_minor": 0
      },
      "text/plain": [
       "0it [00:00, ?it/s]"
      ]
     },
     "metadata": {},
     "output_type": "display_data"
    },
    {
     "data": {
      "application/vnd.jupyter.widget-view+json": {
       "model_id": "f8795ec761184a3ba976c40fd4688cea",
       "version_major": 2,
       "version_minor": 0
      },
      "text/plain": [
       "0it [00:00, ?it/s]"
      ]
     },
     "metadata": {},
     "output_type": "display_data"
    },
    {
     "data": {
      "application/vnd.jupyter.widget-view+json": {
       "model_id": "feb74769ae76489b9094219c5745580e",
       "version_major": 2,
       "version_minor": 0
      },
      "text/plain": [
       "0it [00:00, ?it/s]"
      ]
     },
     "metadata": {},
     "output_type": "display_data"
    },
    {
     "data": {
      "application/vnd.jupyter.widget-view+json": {
       "model_id": "e8f4aead82434985a96bed4a44397bcf",
       "version_major": 2,
       "version_minor": 0
      },
      "text/plain": [
       "0it [00:00, ?it/s]"
      ]
     },
     "metadata": {},
     "output_type": "display_data"
    },
    {
     "data": {
      "application/vnd.jupyter.widget-view+json": {
       "model_id": "7f198776e43d4d48b3570d1dbb770bde",
       "version_major": 2,
       "version_minor": 0
      },
      "text/plain": [
       "0it [00:00, ?it/s]"
      ]
     },
     "metadata": {},
     "output_type": "display_data"
    }
   ],
   "source": [
    "df_valid = download_dataset(df_valid, 'valid')"
   ]
  },
  {
   "cell_type": "code",
   "execution_count": 177,
   "id": "aac0b8eb-4eba-44dc-8179-2a30d5214f9b",
   "metadata": {},
   "outputs": [
    {
     "data": {
      "text/html": [
       "<div>\n",
       "<style scoped>\n",
       "    .dataframe tbody tr th:only-of-type {\n",
       "        vertical-align: middle;\n",
       "    }\n",
       "\n",
       "    .dataframe tbody tr th {\n",
       "        vertical-align: top;\n",
       "    }\n",
       "\n",
       "    .dataframe thead th {\n",
       "        text-align: right;\n",
       "    }\n",
       "</style>\n",
       "<table border=\"1\" class=\"dataframe\">\n",
       "  <thead>\n",
       "    <tr style=\"text-align: right;\">\n",
       "      <th></th>\n",
       "      <th>filepath</th>\n",
       "      <th>genre</th>\n",
       "      <th>data set</th>\n",
       "    </tr>\n",
       "  </thead>\n",
       "  <tbody>\n",
       "    <tr>\n",
       "      <th>0</th>\n",
       "      <td>valid/Pop/B000003PE2.png</td>\n",
       "      <td>Pop</td>\n",
       "      <td>valid</td>\n",
       "    </tr>\n",
       "    <tr>\n",
       "      <th>1</th>\n",
       "      <td>valid/Pop/B00144V7US.png</td>\n",
       "      <td>Pop</td>\n",
       "      <td>valid</td>\n",
       "    </tr>\n",
       "    <tr>\n",
       "      <th>2</th>\n",
       "      <td>valid/Pop/B00002JX9S.png</td>\n",
       "      <td>Pop</td>\n",
       "      <td>valid</td>\n",
       "    </tr>\n",
       "    <tr>\n",
       "      <th>3</th>\n",
       "      <td>valid/Pop/B0014JNT8G.png</td>\n",
       "      <td>Pop</td>\n",
       "      <td>valid</td>\n",
       "    </tr>\n",
       "    <tr>\n",
       "      <th>4</th>\n",
       "      <td>valid/Pop/B00004YRG0.png</td>\n",
       "      <td>Pop</td>\n",
       "      <td>valid</td>\n",
       "    </tr>\n",
       "    <tr>\n",
       "      <th>...</th>\n",
       "      <td>...</td>\n",
       "      <td>...</td>\n",
       "      <td>...</td>\n",
       "    </tr>\n",
       "    <tr>\n",
       "      <th>449</th>\n",
       "      <td>valid/Jazz/B009SFNHTE.png</td>\n",
       "      <td>Jazz</td>\n",
       "      <td>valid</td>\n",
       "    </tr>\n",
       "    <tr>\n",
       "      <th>450</th>\n",
       "      <td>valid/Jazz/B005NNJL3Q.png</td>\n",
       "      <td>Jazz</td>\n",
       "      <td>valid</td>\n",
       "    </tr>\n",
       "    <tr>\n",
       "      <th>451</th>\n",
       "      <td>valid/Jazz/B000LKARI4.png</td>\n",
       "      <td>Jazz</td>\n",
       "      <td>valid</td>\n",
       "    </tr>\n",
       "    <tr>\n",
       "      <th>452</th>\n",
       "      <td>valid/Jazz/B000KWAETU.png</td>\n",
       "      <td>Jazz</td>\n",
       "      <td>valid</td>\n",
       "    </tr>\n",
       "    <tr>\n",
       "      <th>453</th>\n",
       "      <td>valid/Jazz/B00008FOH0.png</td>\n",
       "      <td>Jazz</td>\n",
       "      <td>valid</td>\n",
       "    </tr>\n",
       "  </tbody>\n",
       "</table>\n",
       "<p>454 rows × 3 columns</p>\n",
       "</div>"
      ],
      "text/plain": [
       "                      filepath genre data set\n",
       "0     valid/Pop/B000003PE2.png   Pop    valid\n",
       "1     valid/Pop/B00144V7US.png   Pop    valid\n",
       "2     valid/Pop/B00002JX9S.png   Pop    valid\n",
       "3     valid/Pop/B0014JNT8G.png   Pop    valid\n",
       "4     valid/Pop/B00004YRG0.png   Pop    valid\n",
       "..                         ...   ...      ...\n",
       "449  valid/Jazz/B009SFNHTE.png  Jazz    valid\n",
       "450  valid/Jazz/B005NNJL3Q.png  Jazz    valid\n",
       "451  valid/Jazz/B000LKARI4.png  Jazz    valid\n",
       "452  valid/Jazz/B000KWAETU.png  Jazz    valid\n",
       "453  valid/Jazz/B00008FOH0.png  Jazz    valid\n",
       "\n",
       "[454 rows x 3 columns]"
      ]
     },
     "execution_count": 177,
     "metadata": {},
     "output_type": "execute_result"
    }
   ],
   "source": [
    "df_valid = build_dataframe('valid')\n",
    "df_valid"
   ]
  },
  {
   "cell_type": "code",
   "execution_count": 267,
   "id": "4aa66ac8-7271-45ac-a786-9727c54455fa",
   "metadata": {},
   "outputs": [
    {
     "data": {
      "text/html": [
       "<div>\n",
       "<style scoped>\n",
       "    .dataframe tbody tr th:only-of-type {\n",
       "        vertical-align: middle;\n",
       "    }\n",
       "\n",
       "    .dataframe tbody tr th {\n",
       "        vertical-align: top;\n",
       "    }\n",
       "\n",
       "    .dataframe thead th {\n",
       "        text-align: right;\n",
       "    }\n",
       "</style>\n",
       "<table border=\"1\" class=\"dataframe\">\n",
       "  <thead>\n",
       "    <tr style=\"text-align: right;\">\n",
       "      <th></th>\n",
       "      <th>filepath</th>\n",
       "      <th>genre</th>\n",
       "      <th>data set</th>\n",
       "    </tr>\n",
       "  </thead>\n",
       "  <tbody>\n",
       "    <tr>\n",
       "      <th>0</th>\n",
       "      <td>valid/Pop/B00144V7US.png</td>\n",
       "      <td>Pop</td>\n",
       "      <td>valid</td>\n",
       "    </tr>\n",
       "    <tr>\n",
       "      <th>1</th>\n",
       "      <td>valid/Pop/B00002JX9S.png</td>\n",
       "      <td>Pop</td>\n",
       "      <td>valid</td>\n",
       "    </tr>\n",
       "    <tr>\n",
       "      <th>2</th>\n",
       "      <td>valid/Pop/B0014JNT8G.png</td>\n",
       "      <td>Pop</td>\n",
       "      <td>valid</td>\n",
       "    </tr>\n",
       "    <tr>\n",
       "      <th>3</th>\n",
       "      <td>valid/Pop/B00004YRG0.png</td>\n",
       "      <td>Pop</td>\n",
       "      <td>valid</td>\n",
       "    </tr>\n",
       "    <tr>\n",
       "      <th>4</th>\n",
       "      <td>valid/Pop/B00004Y1NN.png</td>\n",
       "      <td>Pop</td>\n",
       "      <td>valid</td>\n",
       "    </tr>\n",
       "    <tr>\n",
       "      <th>...</th>\n",
       "      <td>...</td>\n",
       "      <td>...</td>\n",
       "      <td>...</td>\n",
       "    </tr>\n",
       "    <tr>\n",
       "      <th>430</th>\n",
       "      <td>valid/Jazz/B009SFNHTE.png</td>\n",
       "      <td>Jazz</td>\n",
       "      <td>valid</td>\n",
       "    </tr>\n",
       "    <tr>\n",
       "      <th>431</th>\n",
       "      <td>valid/Jazz/B005NNJL3Q.png</td>\n",
       "      <td>Jazz</td>\n",
       "      <td>valid</td>\n",
       "    </tr>\n",
       "    <tr>\n",
       "      <th>432</th>\n",
       "      <td>valid/Jazz/B000LKARI4.png</td>\n",
       "      <td>Jazz</td>\n",
       "      <td>valid</td>\n",
       "    </tr>\n",
       "    <tr>\n",
       "      <th>433</th>\n",
       "      <td>valid/Jazz/B000KWAETU.png</td>\n",
       "      <td>Jazz</td>\n",
       "      <td>valid</td>\n",
       "    </tr>\n",
       "    <tr>\n",
       "      <th>434</th>\n",
       "      <td>valid/Jazz/B00008FOH0.png</td>\n",
       "      <td>Jazz</td>\n",
       "      <td>valid</td>\n",
       "    </tr>\n",
       "  </tbody>\n",
       "</table>\n",
       "<p>435 rows × 3 columns</p>\n",
       "</div>"
      ],
      "text/plain": [
       "                      filepath genre data set\n",
       "0     valid/Pop/B00144V7US.png   Pop    valid\n",
       "1     valid/Pop/B00002JX9S.png   Pop    valid\n",
       "2     valid/Pop/B0014JNT8G.png   Pop    valid\n",
       "3     valid/Pop/B00004YRG0.png   Pop    valid\n",
       "4     valid/Pop/B00004Y1NN.png   Pop    valid\n",
       "..                         ...   ...      ...\n",
       "430  valid/Jazz/B009SFNHTE.png  Jazz    valid\n",
       "431  valid/Jazz/B005NNJL3Q.png  Jazz    valid\n",
       "432  valid/Jazz/B000LKARI4.png  Jazz    valid\n",
       "433  valid/Jazz/B000KWAETU.png  Jazz    valid\n",
       "434  valid/Jazz/B00008FOH0.png  Jazz    valid\n",
       "\n",
       "[435 rows x 3 columns]"
      ]
     },
     "execution_count": 267,
     "metadata": {},
     "output_type": "execute_result"
    }
   ],
   "source": [
    "df_valid = clean_data(df_valid)\n",
    "df_valid"
   ]
  },
  {
   "cell_type": "markdown",
   "id": "80ab1ff1-68cc-4a96-9fc2-0050d9d63655",
   "metadata": {},
   "source": [
    "### **Datasets**"
   ]
  },
  {
   "cell_type": "code",
   "execution_count": 268,
   "id": "c96b63fd-8cb7-49ef-9aa6-17ca5632768f",
   "metadata": {},
   "outputs": [],
   "source": [
    "class GenresDataset(Dataset):\n",
    "    def __init__(self, df):\n",
    "        self.df = df\n",
    "        #labels dictionary\n",
    "        self.label_dict = {genre: i for i, genre in enumerate(df.genre.unique())}\n",
    "    \n",
    "    def __len__(self):\n",
    "        return len(self.df)\n",
    "    \n",
    "    def __getitem__(self, idx):\n",
    "        row = self.df.iloc[idx]\n",
    "        path = row['filepath']\n",
    "        img = cv2.imread(path)\n",
    "        img = cv2.resize(img, (256,256))\n",
    "        img = cv2.cvtColor(img, cv2.COLOR_BGR2RGB)\n",
    "        img = np.transpose(img, (2, 0, 1))\n",
    "        img = torch.tensor(img / 255.).float()\n",
    "        genre = torch.tensor(self.label_dict[row['genre']])\n",
    "            \n",
    "        return img, genre"
   ]
  },
  {
   "cell_type": "code",
   "execution_count": 269,
   "id": "fcf99e33-42e4-4c19-8bd2-6f0def6177da",
   "metadata": {},
   "outputs": [],
   "source": [
    "ds_train = GenresDataset(df_train)\n",
    "ds_val = GenresDataset(df_valid)\n",
    "dl_train = DataLoader(ds_train, batch_size = 8, shuffle = True)\n",
    "dl_val = DataLoader(ds_val, batch_size = 8, shuffle = True)"
   ]
  },
  {
   "cell_type": "code",
   "execution_count": 302,
   "id": "2391dd94-f47b-4c08-b5d7-6d0f729468dd",
   "metadata": {},
   "outputs": [
    {
     "data": {
      "text/plain": [
       "(tensor([[[0.4941, 0.5020, 0.5216,  ..., 0.0824, 0.0863, 0.0863],\n",
       "          [0.4353, 0.4431, 0.4627,  ..., 0.0706, 0.0745, 0.0745],\n",
       "          [0.3647, 0.3725, 0.3843,  ..., 0.0588, 0.0588, 0.0588],\n",
       "          ...,\n",
       "          [0.1608, 0.2235, 0.3294,  ..., 0.1451, 0.1373, 0.1333],\n",
       "          [0.1922, 0.2471, 0.3451,  ..., 0.1412, 0.1608, 0.1725],\n",
       "          [0.2118, 0.2667, 0.3569,  ..., 0.1412, 0.1804, 0.2000]],\n",
       " \n",
       "         [[0.5373, 0.5451, 0.5647,  ..., 0.1412, 0.1451, 0.1451],\n",
       "          [0.4784, 0.4902, 0.5020,  ..., 0.1294, 0.1294, 0.1333],\n",
       "          [0.4078, 0.4157, 0.4275,  ..., 0.1098, 0.1137, 0.1176],\n",
       "          ...,\n",
       "          [0.1451, 0.2078, 0.3216,  ..., 0.2392, 0.2314, 0.2275],\n",
       "          [0.1725, 0.2314, 0.3373,  ..., 0.2353, 0.2549, 0.2667],\n",
       "          [0.1922, 0.2510, 0.3490,  ..., 0.2353, 0.2745, 0.2941]],\n",
       " \n",
       "         [[0.5451, 0.5569, 0.5725,  ..., 0.1608, 0.1647, 0.1647],\n",
       "          [0.4863, 0.4941, 0.5137,  ..., 0.1490, 0.1490, 0.1529],\n",
       "          [0.4118, 0.4235, 0.4353,  ..., 0.1333, 0.1333, 0.1373],\n",
       "          ...,\n",
       "          [0.1686, 0.2314, 0.3412,  ..., 0.2392, 0.2314, 0.2275],\n",
       "          [0.1961, 0.2549, 0.3569,  ..., 0.2353, 0.2549, 0.2667],\n",
       "          [0.2157, 0.2706, 0.3686,  ..., 0.2353, 0.2745, 0.2941]]]),\n",
       " tensor(0))"
      ]
     },
     "execution_count": 302,
     "metadata": {},
     "output_type": "execute_result"
    }
   ],
   "source": [
    "next(iter(ds_train))"
   ]
  },
  {
   "cell_type": "markdown",
   "id": "3972b7b8-662c-4659-b4e4-c7123dfc8203",
   "metadata": {},
   "source": [
    "## Models"
   ]
  },
  {
   "cell_type": "markdown",
   "id": "a057fb08-ffa8-4e65-b2e4-53bc51997e6a",
   "metadata": {},
   "source": [
    "### **Baseline - Convolutional Neural Network**"
   ]
  },
  {
   "cell_type": "code",
   "execution_count": 272,
   "id": "bc8ea19d-b06a-4700-97cc-3ae0b0820ff1",
   "metadata": {},
   "outputs": [],
   "source": [
    "class CNN(nn.Module):\n",
    "    def __init__(self):\n",
    "        super().__init__()\n",
    "        self.conv1 = nn.Conv2d(in_channels=3, out_channels=32, kernel_size=3, padding=1)\n",
    "        self.conv2 = nn.Conv2d(in_channels=32, out_channels=64, kernel_size=3, padding=1)\n",
    "        self.conv3 = nn.Conv2d(in_channels=64, out_channels=128, kernel_size=3, padding=1)\n",
    "        self.conv4 = nn.Conv2d(in_channels=128, out_channels=64, kernel_size=3, padding=1)\n",
    "        self.conv5 = nn.Conv2d(in_channels=64, out_channels=64, kernel_size=3, padding=1)\n",
    "        \n",
    "        self.linear1 = nn.Linear(16384, 100)\n",
    "        self.linear2 = nn.Linear(100, 12) #12 different genres\n",
    "    \n",
    "        self.pool = nn.MaxPool2d(kernel_size=2, stride=2)    \n",
    "        self.relu = nn.ReLU()\n",
    "        self.unroll = nn.Flatten()\n",
    "        \n",
    "    def forward(self, x):\n",
    "        \n",
    "        x = self.conv1(x)\n",
    "        x = self.relu(x)\n",
    "        x = self.pool(x)\n",
    "        \n",
    "        x = self.conv2(x)\n",
    "        x = self.relu(x)\n",
    "        x = self.pool(x)\n",
    "        \n",
    "        x = self.conv3(x)\n",
    "        x = self.relu(x)\n",
    "        x = self.pool(x)\n",
    "        \n",
    "        x = self.conv4(x)\n",
    "        x = self.relu(x)\n",
    "        x = self.pool(x)\n",
    "        \n",
    "        x = self.conv5(x)\n",
    "        x = self.relu(x)\n",
    "\n",
    "        x = self.linear1(self.unroll(x))\n",
    "        x = self.relu(x)\n",
    "        x = self.linear2(x)\n",
    "        \n",
    "        return x\n",
    "    \n",
    "model = CNN()"
   ]
  },
  {
   "cell_type": "code",
   "execution_count": 273,
   "id": "24d7aab1-eb41-44cf-bc23-8328daa02f10",
   "metadata": {},
   "outputs": [
    {
     "name": "stdout",
     "output_type": "stream",
     "text": [
      "----------------------------------------------------------------\n",
      "        Layer (type)               Output Shape         Param #\n",
      "================================================================\n",
      "            Conv2d-1         [-1, 32, 256, 256]             896\n",
      "              ReLU-2         [-1, 32, 256, 256]               0\n",
      "         MaxPool2d-3         [-1, 32, 128, 128]               0\n",
      "            Conv2d-4         [-1, 64, 128, 128]          18,496\n",
      "              ReLU-5         [-1, 64, 128, 128]               0\n",
      "         MaxPool2d-6           [-1, 64, 64, 64]               0\n",
      "            Conv2d-7          [-1, 128, 64, 64]          73,856\n",
      "              ReLU-8          [-1, 128, 64, 64]               0\n",
      "         MaxPool2d-9          [-1, 128, 32, 32]               0\n",
      "           Conv2d-10           [-1, 64, 32, 32]          73,792\n",
      "             ReLU-11           [-1, 64, 32, 32]               0\n",
      "        MaxPool2d-12           [-1, 64, 16, 16]               0\n",
      "           Conv2d-13           [-1, 64, 16, 16]          36,928\n",
      "             ReLU-14           [-1, 64, 16, 16]               0\n",
      "          Flatten-15                [-1, 16384]               0\n",
      "           Linear-16                  [-1, 100]       1,638,500\n",
      "             ReLU-17                  [-1, 100]               0\n",
      "           Linear-18                   [-1, 12]           1,212\n",
      "================================================================\n",
      "Total params: 1,843,680\n",
      "Trainable params: 1,843,680\n",
      "Non-trainable params: 0\n",
      "----------------------------------------------------------------\n",
      "Input size (MB): 0.75\n",
      "Forward/backward pass size (MB): 64.50\n",
      "Params size (MB): 7.03\n",
      "Estimated Total Size (MB): 72.28\n",
      "----------------------------------------------------------------\n"
     ]
    }
   ],
   "source": [
    "from torchsummary import summary\n",
    "summary(model, input_size = (3, 256, 256), device='cpu')"
   ]
  },
  {
   "cell_type": "code",
   "execution_count": 274,
   "id": "07d4ba3e-40a6-4b59-8303-a0722b90fe4b",
   "metadata": {},
   "outputs": [],
   "source": [
    "def one_pass(model, dataloader, optimizer, lossFun, backwards=True, print_loss=False):\n",
    "    \n",
    "    if backwards == True:\n",
    "        model.train()\n",
    "    else:\n",
    "        model.eval()\n",
    "    \n",
    "    total_loss = 0.0\n",
    "    for x, y in tqdm(dataloader):\n",
    "        \n",
    "        y_pred = model(x)\n",
    "        loss = lossFun(y_pred, y)\n",
    "        total_loss += loss.item()\n",
    "        \n",
    "        if backwards == True:\n",
    "            optimizer.zero_grad()\n",
    "            loss.backward()\n",
    "            optimizer.step()\n",
    "    avg_loss = total_loss / len(dataloader)\n",
    "    \n",
    "    if print_loss == True:\n",
    "        print(avg_loss)\n",
    "    \n",
    "    return avg_loss\n",
    "\n",
    "def one_pass_acc(model, dataloader, num_points):\n",
    "    model.eval()\n",
    "    total_incorrect = 0\n",
    "    \n",
    "    softmax = nn.LogSoftmax(dim=1)\n",
    "    \n",
    "    for x, y in dataloader:\n",
    "        y_pred = softmax(model(x))\n",
    "        y_pred = torch.argmax(y_pred, dim=1)\n",
    "        \n",
    "        total_incorrect += torch.count_nonzero(y - y_pred).item()\n",
    "        \n",
    "    percent_wrong = total_incorrect / num_points\n",
    "    return 1 - percent_wrong"
   ]
  },
  {
   "cell_type": "code",
   "execution_count": 275,
   "id": "cc282358-dc37-4810-8766-c0718c37345b",
   "metadata": {},
   "outputs": [],
   "source": [
    "def train_model(model, ds_train, dl_train, ds_val, dl_val, num_epochs=5):\n",
    "    optimizer = optim.Adam(model.parameters(), lr = 0.01)\n",
    "    lossFun = nn.CrossEntropyLoss()\n",
    "\n",
    "    train_losses = []\n",
    "    valid_losses = []\n",
    "\n",
    "    for epoch in tqdm(range(num_epochs)):\n",
    "        print('Epoch: ', epoch)\n",
    "\n",
    "        train_loss = one_pass(model, dl_train, optimizer, lossFun)\n",
    "        train_losses.append(train_loss)\n",
    "        print('Train loss: ', train_loss)\n",
    "\n",
    "        valid_loss = one_pass(model, dl_val, optimizer, lossFun, backwards=False)\n",
    "        valid_losses.append(valid_loss)\n",
    "        print('Valid loss: ', valid_loss)\n",
    "\n",
    "        train_acc = one_pass_acc(model, dl_train, len(ds_train))\n",
    "        valid_acc = one_pass_acc(model, dl_val, len(ds_val))\n",
    "        print('Train Acc: ', train_acc)\n",
    "        print('Valid Acc: ', valid_acc)"
   ]
  },
  {
   "cell_type": "code",
   "execution_count": 276,
   "id": "065bfac8-b22b-4bd8-a9e6-914a7e0c53d4",
   "metadata": {},
   "outputs": [
    {
     "data": {
      "application/vnd.jupyter.widget-view+json": {
       "model_id": "7004710238d1479fb6a6641d2a0ad5da",
       "version_major": 2,
       "version_minor": 0
      },
      "text/plain": [
       "  0%|          | 0/5 [00:00<?, ?it/s]"
      ]
     },
     "metadata": {},
     "output_type": "display_data"
    },
    {
     "name": "stdout",
     "output_type": "stream",
     "text": [
      "Epoch:  0\n"
     ]
    },
    {
     "data": {
      "application/vnd.jupyter.widget-view+json": {
       "model_id": "3a39a0cd74cf459b999a9658d440d6fb",
       "version_major": 2,
       "version_minor": 0
      },
      "text/plain": [
       "  0%|          | 0/220 [00:00<?, ?it/s]"
      ]
     },
     "metadata": {},
     "output_type": "display_data"
    },
    {
     "name": "stdout",
     "output_type": "stream",
     "text": [
      "Train loss:  2.623141374913129\n"
     ]
    },
    {
     "data": {
      "application/vnd.jupyter.widget-view+json": {
       "model_id": "b69df829facf4e3ba19875a5034fa7e1",
       "version_major": 2,
       "version_minor": 0
      },
      "text/plain": [
       "  0%|          | 0/55 [00:00<?, ?it/s]"
      ]
     },
     "metadata": {},
     "output_type": "display_data"
    },
    {
     "name": "stdout",
     "output_type": "stream",
     "text": [
      "Valid loss:  2.3062387531453914\n",
      "Train Acc:  0.23589743589743595\n",
      "Valid Acc:  0.21149425287356327\n",
      "Epoch:  1\n"
     ]
    },
    {
     "data": {
      "application/vnd.jupyter.widget-view+json": {
       "model_id": "5152865a75b3437a89c1163df6bd9be7",
       "version_major": 2,
       "version_minor": 0
      },
      "text/plain": [
       "  0%|          | 0/220 [00:00<?, ?it/s]"
      ]
     },
     "metadata": {},
     "output_type": "display_data"
    },
    {
     "name": "stdout",
     "output_type": "stream",
     "text": [
      "Train loss:  2.2445982813835146\n"
     ]
    },
    {
     "data": {
      "application/vnd.jupyter.widget-view+json": {
       "model_id": "86a6a3d6176c4db88922a02679b14e26",
       "version_major": 2,
       "version_minor": 0
      },
      "text/plain": [
       "  0%|          | 0/55 [00:00<?, ?it/s]"
      ]
     },
     "metadata": {},
     "output_type": "display_data"
    },
    {
     "name": "stdout",
     "output_type": "stream",
     "text": [
      "Valid loss:  2.305061440034346\n",
      "Train Acc:  0.23589743589743595\n",
      "Valid Acc:  0.21149425287356327\n",
      "Epoch:  2\n"
     ]
    },
    {
     "data": {
      "application/vnd.jupyter.widget-view+json": {
       "model_id": "fd5770233f3a40f082b0aaad4cf709cb",
       "version_major": 2,
       "version_minor": 0
      },
      "text/plain": [
       "  0%|          | 0/220 [00:00<?, ?it/s]"
      ]
     },
     "metadata": {},
     "output_type": "display_data"
    },
    {
     "name": "stdout",
     "output_type": "stream",
     "text": [
      "Train loss:  2.238109961423007\n"
     ]
    },
    {
     "data": {
      "application/vnd.jupyter.widget-view+json": {
       "model_id": "6723956eccc04be48f0237690ec9bd83",
       "version_major": 2,
       "version_minor": 0
      },
      "text/plain": [
       "  0%|          | 0/55 [00:00<?, ?it/s]"
      ]
     },
     "metadata": {},
     "output_type": "display_data"
    },
    {
     "name": "stdout",
     "output_type": "stream",
     "text": [
      "Valid loss:  2.3175086064772175\n",
      "Train Acc:  0.23589743589743595\n",
      "Valid Acc:  0.21149425287356327\n",
      "Epoch:  3\n"
     ]
    },
    {
     "data": {
      "application/vnd.jupyter.widget-view+json": {
       "model_id": "005677376bb244cd9799db05ab7d20d3",
       "version_major": 2,
       "version_minor": 0
      },
      "text/plain": [
       "  0%|          | 0/220 [00:00<?, ?it/s]"
      ]
     },
     "metadata": {},
     "output_type": "display_data"
    },
    {
     "name": "stdout",
     "output_type": "stream",
     "text": [
      "Train loss:  2.2380557119846345\n"
     ]
    },
    {
     "data": {
      "application/vnd.jupyter.widget-view+json": {
       "model_id": "14d412a25d1244b98bec7acea11d96b3",
       "version_major": 2,
       "version_minor": 0
      },
      "text/plain": [
       "  0%|          | 0/55 [00:00<?, ?it/s]"
      ]
     },
     "metadata": {},
     "output_type": "display_data"
    },
    {
     "name": "stdout",
     "output_type": "stream",
     "text": [
      "Valid loss:  2.314336960965937\n",
      "Train Acc:  0.23589743589743595\n",
      "Valid Acc:  0.21149425287356327\n",
      "Epoch:  4\n"
     ]
    },
    {
     "data": {
      "application/vnd.jupyter.widget-view+json": {
       "model_id": "124077e4235544108f74ddd830520fe0",
       "version_major": 2,
       "version_minor": 0
      },
      "text/plain": [
       "  0%|          | 0/220 [00:00<?, ?it/s]"
      ]
     },
     "metadata": {},
     "output_type": "display_data"
    },
    {
     "name": "stdout",
     "output_type": "stream",
     "text": [
      "Train loss:  2.239817634495822\n"
     ]
    },
    {
     "data": {
      "application/vnd.jupyter.widget-view+json": {
       "model_id": "5984e8cd7eb74d4d894840d8fd5d6f4d",
       "version_major": 2,
       "version_minor": 0
      },
      "text/plain": [
       "  0%|          | 0/55 [00:00<?, ?it/s]"
      ]
     },
     "metadata": {},
     "output_type": "display_data"
    },
    {
     "name": "stdout",
     "output_type": "stream",
     "text": [
      "Valid loss:  2.3056785908612336\n",
      "Train Acc:  0.23589743589743595\n",
      "Valid Acc:  0.21149425287356327\n"
     ]
    }
   ],
   "source": [
    "train_model(model, ds_train, dl_train, ds_val, dl_val)"
   ]
  },
  {
   "cell_type": "code",
   "execution_count": 277,
   "id": "6dd5cb40-2148-48d0-acec-14172fe32c8a",
   "metadata": {},
   "outputs": [],
   "source": [
    "torch.save(model, 'base_cnn')"
   ]
  },
  {
   "cell_type": "markdown",
   "id": "a69052db-8b9f-4862-9375-ac413e4612c3",
   "metadata": {},
   "source": [
    "### **Transfer Learning - VGG16 CNN**"
   ]
  },
  {
   "cell_type": "markdown",
   "id": "748531b8-dbfa-40fe-9788-b2db11287583",
   "metadata": {},
   "source": [
    "Our lack of data meant that training a convolution neural network from scratch could lead to results less accurate than those we could achieve using transfer learning. By taking a pre-trained VGG16 model we could use pre-trained weights with a developed understanding of features and tune these to match our task, hopefully increasing the effectiveness in predicting a single genre for albums based on their cover art. We used a partially frozen VGG-16 with the last "
   ]
  },
  {
   "cell_type": "code",
   "execution_count": 278,
   "id": "b9f1b360-868e-4b88-a7d9-dc000c96b425",
   "metadata": {},
   "outputs": [],
   "source": [
    "vgg16 = models.vgg16(pretrained=True)"
   ]
  },
  {
   "cell_type": "code",
   "execution_count": 279,
   "id": "9aba8471-8b7f-491b-ba4b-1f2ba5a92e63",
   "metadata": {},
   "outputs": [
    {
     "name": "stdout",
     "output_type": "stream",
     "text": [
      "----------------------------------------------------------------\n",
      "        Layer (type)               Output Shape         Param #\n",
      "================================================================\n",
      "            Conv2d-1         [-1, 64, 256, 256]           1,792\n",
      "              ReLU-2         [-1, 64, 256, 256]               0\n",
      "            Conv2d-3         [-1, 64, 256, 256]          36,928\n",
      "              ReLU-4         [-1, 64, 256, 256]               0\n",
      "         MaxPool2d-5         [-1, 64, 128, 128]               0\n",
      "            Conv2d-6        [-1, 128, 128, 128]          73,856\n",
      "              ReLU-7        [-1, 128, 128, 128]               0\n",
      "            Conv2d-8        [-1, 128, 128, 128]         147,584\n",
      "              ReLU-9        [-1, 128, 128, 128]               0\n",
      "        MaxPool2d-10          [-1, 128, 64, 64]               0\n",
      "           Conv2d-11          [-1, 256, 64, 64]         295,168\n",
      "             ReLU-12          [-1, 256, 64, 64]               0\n",
      "           Conv2d-13          [-1, 256, 64, 64]         590,080\n",
      "             ReLU-14          [-1, 256, 64, 64]               0\n",
      "           Conv2d-15          [-1, 256, 64, 64]         590,080\n",
      "             ReLU-16          [-1, 256, 64, 64]               0\n",
      "        MaxPool2d-17          [-1, 256, 32, 32]               0\n",
      "           Conv2d-18          [-1, 512, 32, 32]       1,180,160\n",
      "             ReLU-19          [-1, 512, 32, 32]               0\n",
      "           Conv2d-20          [-1, 512, 32, 32]       2,359,808\n",
      "             ReLU-21          [-1, 512, 32, 32]               0\n",
      "           Conv2d-22          [-1, 512, 32, 32]       2,359,808\n",
      "             ReLU-23          [-1, 512, 32, 32]               0\n",
      "        MaxPool2d-24          [-1, 512, 16, 16]               0\n",
      "           Conv2d-25          [-1, 512, 16, 16]       2,359,808\n",
      "             ReLU-26          [-1, 512, 16, 16]               0\n",
      "           Conv2d-27          [-1, 512, 16, 16]       2,359,808\n",
      "             ReLU-28          [-1, 512, 16, 16]               0\n",
      "           Conv2d-29          [-1, 512, 16, 16]       2,359,808\n",
      "             ReLU-30          [-1, 512, 16, 16]               0\n",
      "        MaxPool2d-31            [-1, 512, 8, 8]               0\n",
      "AdaptiveAvgPool2d-32            [-1, 512, 7, 7]               0\n",
      "           Linear-33                 [-1, 4096]     102,764,544\n",
      "             ReLU-34                 [-1, 4096]               0\n",
      "          Dropout-35                 [-1, 4096]               0\n",
      "           Linear-36                 [-1, 4096]      16,781,312\n",
      "             ReLU-37                 [-1, 4096]               0\n",
      "          Dropout-38                 [-1, 4096]               0\n",
      "           Linear-39                 [-1, 1000]       4,097,000\n",
      "================================================================\n",
      "Total params: 138,357,544\n",
      "Trainable params: 138,357,544\n",
      "Non-trainable params: 0\n",
      "----------------------------------------------------------------\n",
      "Input size (MB): 0.75\n",
      "Forward/backward pass size (MB): 285.64\n",
      "Params size (MB): 527.79\n",
      "Estimated Total Size (MB): 814.18\n",
      "----------------------------------------------------------------\n"
     ]
    }
   ],
   "source": [
    "summary(vgg16, input_size = (3, 256, 256), device='cpu')"
   ]
  },
  {
   "cell_type": "code",
   "execution_count": 280,
   "id": "ce6fa869-303f-4cbf-88bb-f3620f4b1f39",
   "metadata": {},
   "outputs": [],
   "source": [
    "for param in vgg16.parameters():\n",
    "            param.requires_grad = False"
   ]
  },
  {
   "cell_type": "code",
   "execution_count": 281,
   "id": "5dd3dec6-5362-4524-baad-87c870f2522a",
   "metadata": {},
   "outputs": [
    {
     "name": "stdout",
     "output_type": "stream",
     "text": [
      "Linear(in_features=4096, out_features=12, bias=True)\n"
     ]
    }
   ],
   "source": [
    "vgg16.classifier._modules['6'] = nn.Linear(4096, 12)\n",
    "print(vgg16.classifier._modules['6'])"
   ]
  },
  {
   "cell_type": "code",
   "execution_count": 282,
   "id": "687bacab-6a38-4b39-9ec9-3d6ad7fee640",
   "metadata": {},
   "outputs": [
    {
     "name": "stdout",
     "output_type": "stream",
     "text": [
      "[Parameter containing:\n",
      "tensor([[ 0.0109,  0.0082,  0.0094,  ..., -0.0124, -0.0033, -0.0017],\n",
      "        [ 0.0036,  0.0020, -0.0099,  ..., -0.0028,  0.0152,  0.0034],\n",
      "        [-0.0139,  0.0057, -0.0156,  ...,  0.0034, -0.0091,  0.0128],\n",
      "        ...,\n",
      "        [ 0.0005,  0.0115, -0.0110,  ..., -0.0034,  0.0081, -0.0064],\n",
      "        [ 0.0038, -0.0139, -0.0050,  ...,  0.0106,  0.0111, -0.0147],\n",
      "        [-0.0008, -0.0116,  0.0038,  ...,  0.0145, -0.0030,  0.0137]],\n",
      "       requires_grad=True), Parameter containing:\n",
      "tensor([-0.0039,  0.0018,  0.0153, -0.0125,  0.0114,  0.0047, -0.0143, -0.0125,\n",
      "         0.0060, -0.0100,  0.0022, -0.0125], requires_grad=True)]\n"
     ]
    }
   ],
   "source": [
    "params_to_update = []\n",
    "\n",
    "for param in vgg16.parameters():\n",
    "    if param.requires_grad == True:\n",
    "        params_to_update.append(param)\n",
    "print(params_to_update)\n",
    "\n",
    "optimizer = optim.Adam(params_to_update, lr=0.001)"
   ]
  },
  {
   "cell_type": "code",
   "execution_count": 286,
   "id": "9df80a62-6c53-4edf-8434-2dcdeb13ac39",
   "metadata": {},
   "outputs": [
    {
     "data": {
      "application/vnd.jupyter.widget-view+json": {
       "model_id": "adaa8670ff1f48c0ab551eeeb64482e0",
       "version_major": 2,
       "version_minor": 0
      },
      "text/plain": [
       "  0%|          | 0/2 [00:00<?, ?it/s]"
      ]
     },
     "metadata": {},
     "output_type": "display_data"
    },
    {
     "name": "stdout",
     "output_type": "stream",
     "text": [
      "Epoch:  0\n"
     ]
    },
    {
     "data": {
      "application/vnd.jupyter.widget-view+json": {
       "model_id": "3676f44e35624df8b150e7a5375fab19",
       "version_major": 2,
       "version_minor": 0
      },
      "text/plain": [
       "  0%|          | 0/220 [00:00<?, ?it/s]"
      ]
     },
     "metadata": {},
     "output_type": "display_data"
    },
    {
     "name": "stdout",
     "output_type": "stream",
     "text": [
      "Train loss:  8.076274379275063\n"
     ]
    },
    {
     "data": {
      "application/vnd.jupyter.widget-view+json": {
       "model_id": "3ace08bb59a44b068348e856542f7c31",
       "version_major": 2,
       "version_minor": 0
      },
      "text/plain": [
       "  0%|          | 0/55 [00:00<?, ?it/s]"
      ]
     },
     "metadata": {},
     "output_type": "display_data"
    },
    {
     "name": "stdout",
     "output_type": "stream",
     "text": [
      "Valid loss:  7.724146912314675\n",
      "Train Acc:  0.5094017094017094\n",
      "Valid Acc:  0.2183908045977011\n",
      "Epoch:  1\n"
     ]
    },
    {
     "data": {
      "application/vnd.jupyter.widget-view+json": {
       "model_id": "4cf9847d3ee94de99d2e41d802252085",
       "version_major": 2,
       "version_minor": 0
      },
      "text/plain": [
       "  0%|          | 0/220 [00:00<?, ?it/s]"
      ]
     },
     "metadata": {},
     "output_type": "display_data"
    },
    {
     "name": "stdout",
     "output_type": "stream",
     "text": [
      "Train loss:  8.122371929883958\n"
     ]
    },
    {
     "data": {
      "application/vnd.jupyter.widget-view+json": {
       "model_id": "2c98ecc0771b4418925af32aa475a3f7",
       "version_major": 2,
       "version_minor": 0
      },
      "text/plain": [
       "  0%|          | 0/55 [00:00<?, ?it/s]"
      ]
     },
     "metadata": {},
     "output_type": "display_data"
    },
    {
     "name": "stdout",
     "output_type": "stream",
     "text": [
      "Valid loss:  10.126967516812412\n",
      "Train Acc:  0.4757834757834758\n",
      "Valid Acc:  0.23678160919540225\n"
     ]
    }
   ],
   "source": [
    "train_model(vgg16, ds_train, dl_train, ds_val, dl_val, num_epochs=2)"
   ]
  },
  {
   "cell_type": "code",
   "execution_count": 284,
   "id": "456c8267-c3b7-49ae-b623-a8b5ba88a068",
   "metadata": {},
   "outputs": [],
   "source": [
    "torch.save(vgg16, 'vgg16')"
   ]
  },
  {
   "cell_type": "markdown",
   "id": "4af2c1ea-b84e-42c7-9ef6-7940a11895e2",
   "metadata": {},
   "source": [
    "### **Applying Our Model**"
   ]
  },
  {
   "cell_type": "code",
   "execution_count": 359,
   "id": "00cfa118-2ecd-4726-947a-63ea81a85c97",
   "metadata": {},
   "outputs": [],
   "source": [
    "pred_dict = GenresDataset(df_train).label_dict\n",
    "\n",
    "def get_genre(val):\n",
    "    for key, value in pred_dict.items():\n",
    "        if val == value:\n",
    "            return key\n",
    "    return None"
   ]
  },
  {
   "cell_type": "code",
   "execution_count": 431,
   "id": "176e3579-9d6e-4b26-b516-4a03de11ae97",
   "metadata": {},
   "outputs": [
    {
     "data": {
      "image/png": "[encoded data removed]",
      "text/plain": [
       "<Figure size 432x288 with 1 Axes>"
      ]
     },
     "metadata": {
      "needs_background": "light"
     },
     "output_type": "display_data"
    }
   ],
   "source": [
    "img = cv2.imread('data/takecare.jpg')\n",
    "img = cv2.resize(img, (256,256))\n",
    "img = cv2.cvtColor(img, cv2.COLOR_BGR2RGB)\n",
    "plt.imshow(img)\n",
    "img = np.transpose(img, (2, 0, 1))\n",
    "img = np.reshape(img, [1, 3, img.shape[1], img.shape[2]])\n",
    "img = torch.tensor(img / 255.).float()"
   ]
  },
  {
   "cell_type": "code",
   "execution_count": 432,
   "id": "05c9e32b-fd21-4add-8050-befa90186b85",
   "metadata": {},
   "outputs": [
    {
     "data": {
      "text/plain": [
       "'Dance & Electronic'"
      ]
     },
     "execution_count": 432,
     "metadata": {},
     "output_type": "execute_result"
    }
   ],
   "source": [
    "model.eval()\n",
    "softmax = nn.LogSoftmax(dim=1)\n",
    "\n",
    "y_pred = softmax(model(img))\n",
    "y_pred = torch.argmax(y_pred, dim=1)\n",
    "get_genre(y_pred.item())"
   ]
  },
  {
   "cell_type": "code",
   "execution_count": 433,
   "id": "65651b65-1121-4d95-808f-5d98557b6bc9",
   "metadata": {},
   "outputs": [
    {
     "data": {
      "text/plain": [
       "'Country'"
      ]
     },
     "execution_count": 433,
     "metadata": {},
     "output_type": "execute_result"
    }
   ],
   "source": [
    "vgg16.eval()\n",
    "softmax = nn.LogSoftmax(dim=1)\n",
    "\n",
    "y_pred = softmax(vgg16(img))\n",
    "y_pred = torch.argmax(y_pred, dim=1)\n",
    "get_genre(y_pred.item())"
   ]
  },
  {
   "cell_type": "code",
   "execution_count": 434,
   "id": "8faa8e42-6df2-4a65-b013-21ef3474fac0",
   "metadata": {},
   "outputs": [
    {
     "data": {
      "image/png": "[encoded data removed]",
      "text/plain": [
       "<Figure size 432x288 with 1 Axes>"
      ]
     },
     "metadata": {
      "needs_background": "light"
     },
     "output_type": "display_data"
    }
   ],
   "source": [
    "img = cv2.imread('data/calvinharris.webp')\n",
    "img = cv2.resize(img, (256,256))\n",
    "img = cv2.cvtColor(img, cv2.COLOR_BGR2RGB)\n",
    "plt.imshow(img)\n",
    "img = np.transpose(img, (2, 0, 1))\n",
    "img = np.reshape(img, [1, 3, img.shape[1], img.shape[2]])\n",
    "img = torch.tensor(img / 255.).float()"
   ]
  },
  {
   "cell_type": "code",
   "execution_count": 435,
   "id": "8c0d966c-1ad7-4b44-a17b-7fc1f44c3c21",
   "metadata": {},
   "outputs": [
    {
     "data": {
      "text/plain": [
       "'Dance & Electronic'"
      ]
     },
     "execution_count": 435,
     "metadata": {},
     "output_type": "execute_result"
    }
   ],
   "source": [
    "model.eval()\n",
    "softmax = nn.LogSoftmax(dim=1)\n",
    "\n",
    "y_pred = softmax(model(img))\n",
    "y_pred = torch.argmax(y_pred, dim=1)\n",
    "get_genre(y_pred.item())"
   ]
  },
  {
   "cell_type": "code",
   "execution_count": 436,
   "id": "2180e13b-1e23-4869-b12d-44c05e69f381",
   "metadata": {},
   "outputs": [
    {
     "data": {
      "text/plain": [
       "'Dance & Electronic'"
      ]
     },
     "execution_count": 436,
     "metadata": {},
     "output_type": "execute_result"
    }
   ],
   "source": [
    "vgg16.eval()\n",
    "softmax = nn.LogSoftmax(dim=1)\n",
    "\n",
    "y_pred = softmax(vgg16(img))\n",
    "y_pred = torch.argmax(y_pred, dim=1)\n",
    "get_genre(y_pred.item())"
   ]
  },
  {
   "cell_type": "code",
   "execution_count": null,
   "id": "7b25ee9d-b23a-4cd1-8d20-24337e8ea38b",
   "metadata": {},
   "outputs": [],
   "source": []
  }
 ],
 "metadata": {
  "kernelspec": {
   "display_name": "Python 3",
   "language": "python",
   "name": "python3"
  },
  "language_info": {
   "codemirror_mode": {
    "name": "ipython",
    "version": 3
   },
   "file_extension": ".py",
   "mimetype": "text/x-python",
   "name": "python",
   "nbconvert_exporter": "python",
   "pygments_lexer": "ipython3",
   "version": "3.8.8"
  }
 },
 "nbformat": 4,
 "nbformat_minor": 5
}
