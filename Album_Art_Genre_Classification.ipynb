{
 "cells": [
  {
   "cell_type": "code",
   "execution_count": 1,
   "id": "f8223768-70da-4f0e-8e3b-c65986380ba1",
   "metadata": {},
   "outputs": [],
   "source": [
    "import pandas as pd\n",
    "import numpy as np"
   ]
  },
  {
   "cell_type": "code",
   "execution_count": 2,
   "id": "cf9f9359-6623-4d40-ade9-cd679f9b8356",
   "metadata": {},
   "outputs": [],
   "source": [
    "df = pd.read_csv('MuMu_dataset/MuMu_dataset_single-label.csv')"
   ]
  },
  {
   "cell_type": "code",
   "execution_count": 3,
   "id": "b56f649c-451b-43e3-9897-f0bc921660e7",
   "metadata": {},
   "outputs": [
    {
     "data": {
      "text/html": [
       "<div>\n",
       "<style scoped>\n",
       "    .dataframe tbody tr th:only-of-type {\n",
       "        vertical-align: middle;\n",
       "    }\n",
       "\n",
       "    .dataframe tbody tr th {\n",
       "        vertical-align: top;\n",
       "    }\n",
       "\n",
       "    .dataframe thead th {\n",
       "        text-align: right;\n",
       "    }\n",
       "</style>\n",
       "<table border=\"1\" class=\"dataframe\">\n",
       "  <thead>\n",
       "    <tr style=\"text-align: right;\">\n",
       "      <th></th>\n",
       "      <th>amazon_id</th>\n",
       "      <th>album_mbid</th>\n",
       "      <th>MSD_track_id</th>\n",
       "      <th>recording_mbid</th>\n",
       "      <th>artist_mbid</th>\n",
       "      <th>genres</th>\n",
       "    </tr>\n",
       "  </thead>\n",
       "  <tbody>\n",
       "    <tr>\n",
       "      <th>0</th>\n",
       "      <td>B0018ZB6ZO</td>\n",
       "      <td>0164b5ce-42f8-46bf-b140-61ecd2ed449e</td>\n",
       "      <td>TRYDUXK12903CE0C37</td>\n",
       "      <td>66dd470f-4c4f-4caa-b8d4-2ebc80a83cb6</td>\n",
       "      <td>7434b85a-4a06-42ba-9e1d-9c568c044842</td>\n",
       "      <td>Dance &amp; Electronic</td>\n",
       "    </tr>\n",
       "    <tr>\n",
       "      <th>1</th>\n",
       "      <td>B0018ZB6ZO</td>\n",
       "      <td>0164b5ce-42f8-46bf-b140-61ecd2ed449e</td>\n",
       "      <td>TRGWXYX128F426E27F</td>\n",
       "      <td>b45aef36-c3a3-42f2-90fb-728e8b3c54a2</td>\n",
       "      <td>7434b85a-4a06-42ba-9e1d-9c568c044842</td>\n",
       "      <td>Dance &amp; Electronic</td>\n",
       "    </tr>\n",
       "    <tr>\n",
       "      <th>2</th>\n",
       "      <td>B000003HGR</td>\n",
       "      <td>7fe6e337-9115-3719-855b-0441c42a2c36</td>\n",
       "      <td>TRVMIIJ12903CDBF1D</td>\n",
       "      <td>36b15f42-b441-4d64-8ba9-ca264ed1c6f1</td>\n",
       "      <td>1b54e90c-638e-4fdd-a20e-4ab09db9fdaf</td>\n",
       "      <td>Alternative Rock</td>\n",
       "    </tr>\n",
       "    <tr>\n",
       "      <th>3</th>\n",
       "      <td>B000003HGR</td>\n",
       "      <td>7fe6e337-9115-3719-855b-0441c42a2c36</td>\n",
       "      <td>TRDHJVA128F9335634</td>\n",
       "      <td>279fabb3-830e-4d04-86d5-53668bc42bfa</td>\n",
       "      <td>1b54e90c-638e-4fdd-a20e-4ab09db9fdaf</td>\n",
       "      <td>Alternative Rock</td>\n",
       "    </tr>\n",
       "    <tr>\n",
       "      <th>4</th>\n",
       "      <td>B000003HGR</td>\n",
       "      <td>7fe6e337-9115-3719-855b-0441c42a2c36</td>\n",
       "      <td>TRKDLHL12903CDBF32</td>\n",
       "      <td>381b90e1-c07f-4a53-be8c-6a2107d7a17f</td>\n",
       "      <td>1b54e90c-638e-4fdd-a20e-4ab09db9fdaf</td>\n",
       "      <td>Alternative Rock</td>\n",
       "    </tr>\n",
       "  </tbody>\n",
       "</table>\n",
       "</div>"
      ],
      "text/plain": [
       "    amazon_id                            album_mbid        MSD_track_id  \\\n",
       "0  B0018ZB6ZO  0164b5ce-42f8-46bf-b140-61ecd2ed449e  TRYDUXK12903CE0C37   \n",
       "1  B0018ZB6ZO  0164b5ce-42f8-46bf-b140-61ecd2ed449e  TRGWXYX128F426E27F   \n",
       "2  B000003HGR  7fe6e337-9115-3719-855b-0441c42a2c36  TRVMIIJ12903CDBF1D   \n",
       "3  B000003HGR  7fe6e337-9115-3719-855b-0441c42a2c36  TRDHJVA128F9335634   \n",
       "4  B000003HGR  7fe6e337-9115-3719-855b-0441c42a2c36  TRKDLHL12903CDBF32   \n",
       "\n",
       "                         recording_mbid                           artist_mbid  \\\n",
       "0  66dd470f-4c4f-4caa-b8d4-2ebc80a83cb6  7434b85a-4a06-42ba-9e1d-9c568c044842   \n",
       "1  b45aef36-c3a3-42f2-90fb-728e8b3c54a2  7434b85a-4a06-42ba-9e1d-9c568c044842   \n",
       "2  36b15f42-b441-4d64-8ba9-ca264ed1c6f1  1b54e90c-638e-4fdd-a20e-4ab09db9fdaf   \n",
       "3  279fabb3-830e-4d04-86d5-53668bc42bfa  1b54e90c-638e-4fdd-a20e-4ab09db9fdaf   \n",
       "4  381b90e1-c07f-4a53-be8c-6a2107d7a17f  1b54e90c-638e-4fdd-a20e-4ab09db9fdaf   \n",
       "\n",
       "               genres  \n",
       "0  Dance & Electronic  \n",
       "1  Dance & Electronic  \n",
       "2    Alternative Rock  \n",
       "3    Alternative Rock  \n",
       "4    Alternative Rock  "
      ]
     },
     "execution_count": 3,
     "metadata": {},
     "output_type": "execute_result"
    }
   ],
   "source": [
    "df.head(5)"
   ]
  },
  {
   "cell_type": "code",
   "execution_count": 4,
   "id": "e1d0b779-25b1-4cf9-b2c2-1a5bf1217189",
   "metadata": {},
   "outputs": [
    {
     "data": {
      "text/plain": [
       "12087"
      ]
     },
     "execution_count": 4,
     "metadata": {},
     "output_type": "execute_result"
    }
   ],
   "source": [
    "len(df)"
   ]
  },
  {
   "cell_type": "code",
   "execution_count": 5,
   "id": "cbf83bdb-f5b7-484a-bf02-213dd70a396f",
   "metadata": {},
   "outputs": [
    {
     "data": {
      "text/plain": [
       "147295"
      ]
     },
     "execution_count": 5,
     "metadata": {},
     "output_type": "execute_result"
    }
   ],
   "source": [
    "df2 = pd.read_csv('MuMu_dataset/MuMu_dataset_multi-label.csv')\n",
    "len(df2)"
   ]
  },
  {
   "cell_type": "code",
   "execution_count": 45,
   "id": "1e92f0c4-7326-44bb-bf85-52b7e314805b",
   "metadata": {},
   "outputs": [
    {
     "data": {
      "text/plain": [
       "2321"
      ]
     },
     "execution_count": 45,
     "metadata": {},
     "output_type": "execute_result"
    }
   ],
   "source": [
    "df['album_mbid'].nunique()"
   ]
  },
  {
   "cell_type": "code",
   "execution_count": 61,
   "id": "91ce2086-a637-4993-9289-6475b7f35be0",
   "metadata": {},
   "outputs": [
    {
     "data": {
      "text/plain": [
       "16"
      ]
     },
     "execution_count": 61,
     "metadata": {},
     "output_type": "execute_result"
    }
   ],
   "source": [
    "df['genres'].nunique()"
   ]
  },
  {
   "cell_type": "code",
   "execution_count": 79,
   "id": "428dca49-fd86-498e-9e45-37f9cb0ed608",
   "metadata": {},
   "outputs": [
    {
     "data": {
      "text/plain": [
       "Dance & Electronic    518\n",
       "Rock                  391\n",
       "Jazz                  266\n",
       "Alternative Rock      260\n",
       "Country               151\n",
       "Pop                   139\n",
       "R&B                   127\n",
       "Metal                 119\n",
       "Rap & Hip-Hop         103\n",
       "Latin Music            95\n",
       "Blues                  66\n",
       "Folk                   32\n",
       "Name: genres, dtype: int64"
      ]
     },
     "execution_count": 79,
     "metadata": {},
     "output_type": "execute_result"
    }
   ],
   "source": [
    "# DATA CLEANING\n",
    "df_reduced = df.drop_duplicates(['amazon_id', 'album_mbid'])\n",
    "top_genres = list(df_reduced['genres'].value_counts()[-4:].index)\n",
    "df_top_genres = df_reduced[~df_reduced['genres'].isin(top_genres)]\n",
    "df_top_genres['genres'].value_counts()"
   ]
  },
  {
   "cell_type": "code",
   "execution_count": 80,
   "id": "b69e00e3-8aac-45ef-bad3-431922f650a8",
   "metadata": {},
   "outputs": [
    {
     "data": {
      "text/plain": [
       "2267"
      ]
     },
     "execution_count": 80,
     "metadata": {},
     "output_type": "execute_result"
    }
   ],
   "source": [
    "len(df_top_genres)"
   ]
  },
  {
   "cell_type": "code",
   "execution_count": 65,
   "id": "57c816cb-cbd3-4459-8407-b58ed2621776",
   "metadata": {},
   "outputs": [
    {
     "data": {
      "text/plain": [
       "amazon_id\n",
       "B00000048F     2\n",
       "B00000058F     1\n",
       "B0000009P1     9\n",
       "B000000BTN    13\n",
       "B000000FJS     6\n",
       "              ..\n",
       "B00H7RETXS     3\n",
       "B00I18QNCW     8\n",
       "B00J3D34QM    19\n",
       "B00JVSIMLQ     7\n",
       "B00KE5M5IQ     3\n",
       "Name: genres, Length: 2321, dtype: int64"
      ]
     },
     "execution_count": 65,
     "metadata": {},
     "output_type": "execute_result"
    }
   ],
   "source": [
    "df.groupby('amazon_id')['genres'].count()"
   ]
  },
  {
   "cell_type": "code",
   "execution_count": 49,
   "id": "7b517cb5-77c6-4c41-855f-eae8ad9dcfe9",
   "metadata": {},
   "outputs": [
    {
     "data": {
      "text/plain": [
       "Rock                  2362\n",
       "Dance & Electronic    2329\n",
       "Alternative Rock      1497\n",
       "Jazz                  1146\n",
       "Metal                  733\n",
       "Pop                    675\n",
       "Rap & Hip-Hop          662\n",
       "R&B                    650\n",
       "Country                636\n",
       "Latin Music            553\n",
       "Blues                  437\n",
       "Folk                   149\n",
       "Reggae                 102\n",
       "New Age                 86\n",
       "Classical               41\n",
       "Gospel                  29\n",
       "Name: genres, dtype: int64"
      ]
     },
     "execution_count": 49,
     "metadata": {},
     "output_type": "execute_result"
    }
   ],
   "source": [
    "df['genres'].value_counts()"
   ]
  },
  {
   "cell_type": "code",
   "execution_count": 88,
   "id": "f687eb35-09e1-4074-bf91-059251668b07",
   "metadata": {},
   "outputs": [],
   "source": [
    "df_img = pd.read_json('MuMu_dataset/amazon_metadata_MuMu.json')"
   ]
  },
  {
   "cell_type": "code",
   "execution_count": 39,
   "id": "acf0bdb4-e5f2-480a-a86e-925d91ec7fd3",
   "metadata": {},
   "outputs": [],
   "source": [
    "url = df_img['imUrl'][1]"
   ]
  },
  {
   "cell_type": "code",
   "execution_count": 40,
   "id": "1ea1e1ec-3934-4f2a-8088-b85ad5c8c82f",
   "metadata": {},
   "outputs": [],
   "source": [
    "from PIL import Image\n",
    "import cv2\n",
    "import requests\n",
    "from io import BytesIO\n",
    "\n",
    "response = requests.get(url)\n",
    "img = Image.open(BytesIO(response.content))"
   ]
  },
  {
   "cell_type": "code",
   "execution_count": 41,
   "id": "07116db9-0ce9-4f33-9c10-803edae7b89d",
   "metadata": {},
   "outputs": [
    {
     "data": {
      "text/plain": [
       "PIL.JpegImagePlugin.JpegImageFile"
      ]
     },
     "execution_count": 41,
     "metadata": {},
     "output_type": "execute_result"
    }
   ],
   "source": [
    "type(img)"
   ]
  },
  {
   "cell_type": "code",
   "execution_count": 42,
   "id": "16351007-144a-49b0-b6b2-e45be3a1af2a",
   "metadata": {},
   "outputs": [
    {
     "data": {
      "text/plain": [
       "<matplotlib.image.AxesImage at 0x7fbca2c67880>"
      ]
     },
     "execution_count": 42,
     "metadata": {},
     "output_type": "execute_result"
    },
    {
     "data": {
      "image/png": "[encoded data removed]",
      "text/plain": [
       "<Figure size 432x288 with 1 Axes>"
      ]
     },
     "metadata": {
      "needs_background": "light"
     },
     "output_type": "display_data"
    }
   ],
   "source": [
    "import matplotlib.pyplot as plt\n",
    "\n",
    "plt.imshow(img)"
   ]
  },
  {
   "cell_type": "code",
   "execution_count": 43,
   "id": "b3bf5877-02a0-4261-a791-7a0954095359",
   "metadata": {},
   "outputs": [
    {
     "data": {
      "text/plain": [
       "array([ 37,  69,  92, ..., 239, 185,  89], dtype=uint8)"
      ]
     },
     "execution_count": 43,
     "metadata": {},
     "output_type": "execute_result"
    }
   ],
   "source": [
    "np.array(img).flatten()"
   ]
  },
  {
   "cell_type": "code",
   "execution_count": 44,
   "id": "1a38bb4a-9c1e-4b1d-a37c-cba5d2df693a",
   "metadata": {},
   "outputs": [
    {
     "data": {
      "text/plain": [
       "(300, 300)"
      ]
     },
     "execution_count": 44,
     "metadata": {},
     "output_type": "execute_result"
    }
   ],
   "source": [
    "img.size"
   ]
  },
  {
   "cell_type": "code",
   "execution_count": 81,
   "id": "8b33f829-0d5b-4de6-bf0d-2c86674eeea3",
   "metadata": {},
   "outputs": [
    {
     "data": {
      "text/html": [
       "<div>\n",
       "<style scoped>\n",
       "    .dataframe tbody tr th:only-of-type {\n",
       "        vertical-align: middle;\n",
       "    }\n",
       "\n",
       "    .dataframe tbody tr th {\n",
       "        vertical-align: top;\n",
       "    }\n",
       "\n",
       "    .dataframe thead th {\n",
       "        text-align: right;\n",
       "    }\n",
       "</style>\n",
       "<table border=\"1\" class=\"dataframe\">\n",
       "  <thead>\n",
       "    <tr style=\"text-align: right;\">\n",
       "      <th></th>\n",
       "      <th>amazon_id</th>\n",
       "      <th>album_mbid</th>\n",
       "      <th>MSD_track_id</th>\n",
       "      <th>recording_mbid</th>\n",
       "      <th>artist_mbid</th>\n",
       "      <th>genres</th>\n",
       "    </tr>\n",
       "  </thead>\n",
       "  <tbody>\n",
       "    <tr>\n",
       "      <th>0</th>\n",
       "      <td>B0018ZB6ZO</td>\n",
       "      <td>0164b5ce-42f8-46bf-b140-61ecd2ed449e</td>\n",
       "      <td>TRYDUXK12903CE0C37</td>\n",
       "      <td>66dd470f-4c4f-4caa-b8d4-2ebc80a83cb6</td>\n",
       "      <td>7434b85a-4a06-42ba-9e1d-9c568c044842</td>\n",
       "      <td>Dance &amp; Electronic</td>\n",
       "    </tr>\n",
       "    <tr>\n",
       "      <th>2</th>\n",
       "      <td>B000003HGR</td>\n",
       "      <td>7fe6e337-9115-3719-855b-0441c42a2c36</td>\n",
       "      <td>TRVMIIJ12903CDBF1D</td>\n",
       "      <td>36b15f42-b441-4d64-8ba9-ca264ed1c6f1</td>\n",
       "      <td>1b54e90c-638e-4fdd-a20e-4ab09db9fdaf</td>\n",
       "      <td>Alternative Rock</td>\n",
       "    </tr>\n",
       "    <tr>\n",
       "      <th>20</th>\n",
       "      <td>B0000564CN</td>\n",
       "      <td>d825b1ab-e260-3eb7-b486-5cb58ba0391f</td>\n",
       "      <td>TRPDZTD12903CBFC4B</td>\n",
       "      <td>aaf7c510-dc3d-4d39-81b0-81acf226fa09</td>\n",
       "      <td>570938b4-8fe5-44f9-ab43-9438feb03c6f</td>\n",
       "      <td>R&amp;B</td>\n",
       "    </tr>\n",
       "    <tr>\n",
       "      <th>23</th>\n",
       "      <td>B00008CH90</td>\n",
       "      <td>47742269-fb1e-3fc0-a3c2-943f6095563d</td>\n",
       "      <td>TRNLZDY128F92FFBA6</td>\n",
       "      <td>259930ca-8e3c-42c8-93f1-b6656c9c9c77</td>\n",
       "      <td>e2d38070-361c-43f2-bca3-d08c54222761</td>\n",
       "      <td>R&amp;B</td>\n",
       "    </tr>\n",
       "    <tr>\n",
       "      <th>30</th>\n",
       "      <td>B00014TJ52</td>\n",
       "      <td>a48b6911-9bd9-4711-a6c3-bdfb5a8c7a5f</td>\n",
       "      <td>TRNONQN12903CFE927</td>\n",
       "      <td>228ca23b-e8a3-4a1f-b3c0-6cab083b029c</td>\n",
       "      <td>89ad4ac3-39f7-470e-963a-56509c546377</td>\n",
       "      <td>Dance &amp; Electronic</td>\n",
       "    </tr>\n",
       "    <tr>\n",
       "      <th>...</th>\n",
       "      <td>...</td>\n",
       "      <td>...</td>\n",
       "      <td>...</td>\n",
       "      <td>...</td>\n",
       "      <td>...</td>\n",
       "      <td>...</td>\n",
       "    </tr>\n",
       "    <tr>\n",
       "      <th>12063</th>\n",
       "      <td>B000EHRXMC</td>\n",
       "      <td>31e9d90b-e859-3f3e-a9c7-6af213b9b1d9</td>\n",
       "      <td>TRSHRQD128F14AAFDD</td>\n",
       "      <td>a0bac10d-274f-46cb-966f-ea2e9f940fdc</td>\n",
       "      <td>ac865b2e-bba8-4f5a-8756-dd40d5e39f46</td>\n",
       "      <td>Rock</td>\n",
       "    </tr>\n",
       "    <tr>\n",
       "      <th>12065</th>\n",
       "      <td>B00004UGTC</td>\n",
       "      <td>e9398949-8c87-4244-aaee-d3d4e1de68c3</td>\n",
       "      <td>TRRTAUV128F149F9D9</td>\n",
       "      <td>57f8dc06-ee6a-44c3-b547-9e091310ec1a</td>\n",
       "      <td>bbd11954-09aa-42af-9505-998d6bdc0b99</td>\n",
       "      <td>Jazz</td>\n",
       "    </tr>\n",
       "    <tr>\n",
       "      <th>12067</th>\n",
       "      <td>B0001J3W3C</td>\n",
       "      <td>6daf17da-a199-4b09-a72c-d3568564c8d1</td>\n",
       "      <td>TRDXQJT128EF34A45A</td>\n",
       "      <td>f8ef7a12-1eb6-4325-b814-2be4dffbe47a</td>\n",
       "      <td>2cd95baa-4043-4522-9c0a-dadbbf1cfbf6</td>\n",
       "      <td>Jazz</td>\n",
       "    </tr>\n",
       "    <tr>\n",
       "      <th>12076</th>\n",
       "      <td>B000GRU732</td>\n",
       "      <td>f9dd2e53-45f6-3ed1-b7bb-090c9e5abbeb</td>\n",
       "      <td>TRTNRYO128F4244820</td>\n",
       "      <td>52b32794-0ee1-4073-831c-3e8b75102052</td>\n",
       "      <td>8ef27ebb-f741-4ddf-bf5d-61a6bb981eca</td>\n",
       "      <td>Dance &amp; Electronic</td>\n",
       "    </tr>\n",
       "    <tr>\n",
       "      <th>12084</th>\n",
       "      <td>B0032EZCBS</td>\n",
       "      <td>737d53f7-b603-486e-bd13-b3e079406343</td>\n",
       "      <td>TRVSDNO12903CC37B0</td>\n",
       "      <td>ef2fd4ae-3ec0-4b6d-a156-e81a6f9ea5ea</td>\n",
       "      <td>89ad4ac3-39f7-470e-963a-56509c546377</td>\n",
       "      <td>Dance &amp; Electronic</td>\n",
       "    </tr>\n",
       "  </tbody>\n",
       "</table>\n",
       "<p>2267 rows × 6 columns</p>\n",
       "</div>"
      ],
      "text/plain": [
       "        amazon_id                            album_mbid        MSD_track_id  \\\n",
       "0      B0018ZB6ZO  0164b5ce-42f8-46bf-b140-61ecd2ed449e  TRYDUXK12903CE0C37   \n",
       "2      B000003HGR  7fe6e337-9115-3719-855b-0441c42a2c36  TRVMIIJ12903CDBF1D   \n",
       "20     B0000564CN  d825b1ab-e260-3eb7-b486-5cb58ba0391f  TRPDZTD12903CBFC4B   \n",
       "23     B00008CH90  47742269-fb1e-3fc0-a3c2-943f6095563d  TRNLZDY128F92FFBA6   \n",
       "30     B00014TJ52  a48b6911-9bd9-4711-a6c3-bdfb5a8c7a5f  TRNONQN12903CFE927   \n",
       "...           ...                                   ...                 ...   \n",
       "12063  B000EHRXMC  31e9d90b-e859-3f3e-a9c7-6af213b9b1d9  TRSHRQD128F14AAFDD   \n",
       "12065  B00004UGTC  e9398949-8c87-4244-aaee-d3d4e1de68c3  TRRTAUV128F149F9D9   \n",
       "12067  B0001J3W3C  6daf17da-a199-4b09-a72c-d3568564c8d1  TRDXQJT128EF34A45A   \n",
       "12076  B000GRU732  f9dd2e53-45f6-3ed1-b7bb-090c9e5abbeb  TRTNRYO128F4244820   \n",
       "12084  B0032EZCBS  737d53f7-b603-486e-bd13-b3e079406343  TRVSDNO12903CC37B0   \n",
       "\n",
       "                             recording_mbid  \\\n",
       "0      66dd470f-4c4f-4caa-b8d4-2ebc80a83cb6   \n",
       "2      36b15f42-b441-4d64-8ba9-ca264ed1c6f1   \n",
       "20     aaf7c510-dc3d-4d39-81b0-81acf226fa09   \n",
       "23     259930ca-8e3c-42c8-93f1-b6656c9c9c77   \n",
       "30     228ca23b-e8a3-4a1f-b3c0-6cab083b029c   \n",
       "...                                     ...   \n",
       "12063  a0bac10d-274f-46cb-966f-ea2e9f940fdc   \n",
       "12065  57f8dc06-ee6a-44c3-b547-9e091310ec1a   \n",
       "12067  f8ef7a12-1eb6-4325-b814-2be4dffbe47a   \n",
       "12076  52b32794-0ee1-4073-831c-3e8b75102052   \n",
       "12084  ef2fd4ae-3ec0-4b6d-a156-e81a6f9ea5ea   \n",
       "\n",
       "                                artist_mbid              genres  \n",
       "0      7434b85a-4a06-42ba-9e1d-9c568c044842  Dance & Electronic  \n",
       "2      1b54e90c-638e-4fdd-a20e-4ab09db9fdaf    Alternative Rock  \n",
       "20     570938b4-8fe5-44f9-ab43-9438feb03c6f                 R&B  \n",
       "23     e2d38070-361c-43f2-bca3-d08c54222761                 R&B  \n",
       "30     89ad4ac3-39f7-470e-963a-56509c546377  Dance & Electronic  \n",
       "...                                     ...                 ...  \n",
       "12063  ac865b2e-bba8-4f5a-8756-dd40d5e39f46                Rock  \n",
       "12065  bbd11954-09aa-42af-9505-998d6bdc0b99                Jazz  \n",
       "12067  2cd95baa-4043-4522-9c0a-dadbbf1cfbf6                Jazz  \n",
       "12076  8ef27ebb-f741-4ddf-bf5d-61a6bb981eca  Dance & Electronic  \n",
       "12084  89ad4ac3-39f7-470e-963a-56509c546377  Dance & Electronic  \n",
       "\n",
       "[2267 rows x 6 columns]"
      ]
     },
     "execution_count": 81,
     "metadata": {},
     "output_type": "execute_result"
    }
   ],
   "source": [
    "df_top_genres"
   ]
  },
  {
   "cell_type": "code",
   "execution_count": 83,
   "id": "a6ae0a6a-67d6-41ab-bf28-cc3d984cf4d9",
   "metadata": {},
   "outputs": [
    {
     "data": {
      "text/html": [
       "<div>\n",
       "<style scoped>\n",
       "    .dataframe tbody tr th:only-of-type {\n",
       "        vertical-align: middle;\n",
       "    }\n",
       "\n",
       "    .dataframe tbody tr th {\n",
       "        vertical-align: top;\n",
       "    }\n",
       "\n",
       "    .dataframe thead th {\n",
       "        text-align: right;\n",
       "    }\n",
       "</style>\n",
       "<table border=\"1\" class=\"dataframe\">\n",
       "  <thead>\n",
       "    <tr style=\"text-align: right;\">\n",
       "      <th></th>\n",
       "      <th>amazon_id</th>\n",
       "      <th>album_mbid</th>\n",
       "      <th>MSD_track_id</th>\n",
       "      <th>recording_mbid</th>\n",
       "      <th>artist_mbid</th>\n",
       "      <th>genres</th>\n",
       "    </tr>\n",
       "  </thead>\n",
       "  <tbody>\n",
       "  </tbody>\n",
       "</table>\n",
       "</div>"
      ],
      "text/plain": [
       "Empty DataFrame\n",
       "Columns: [amazon_id, album_mbid, MSD_track_id, recording_mbid, artist_mbid, genres]\n",
       "Index: []"
      ]
     },
     "execution_count": 83,
     "metadata": {},
     "output_type": "execute_result"
    }
   ],
   "source": [
    "df[df['amazon_id'] == 'B09QRMPBPB']"
   ]
  },
  {
   "cell_type": "code",
   "execution_count": 100,
   "id": "4dcbf122-6817-479e-91ad-2b9141811d09",
   "metadata": {},
   "outputs": [
    {
     "data": {
      "text/html": [
       "<div>\n",
       "<style scoped>\n",
       "    .dataframe tbody tr th:only-of-type {\n",
       "        vertical-align: middle;\n",
       "    }\n",
       "\n",
       "    .dataframe tbody tr th {\n",
       "        vertical-align: top;\n",
       "    }\n",
       "\n",
       "    .dataframe thead th {\n",
       "        text-align: right;\n",
       "    }\n",
       "</style>\n",
       "<table border=\"1\" class=\"dataframe\">\n",
       "  <thead>\n",
       "    <tr style=\"text-align: right;\">\n",
       "      <th></th>\n",
       "      <th>title</th>\n",
       "      <th>price</th>\n",
       "      <th>imUrl</th>\n",
       "      <th>amazon_id</th>\n",
       "      <th>related</th>\n",
       "      <th>categories</th>\n",
       "      <th>salesRank</th>\n",
       "      <th>brand</th>\n",
       "    </tr>\n",
       "  </thead>\n",
       "  <tbody>\n",
       "    <tr>\n",
       "      <th>0</th>\n",
       "      <td>Comfort Zone</td>\n",
       "      <td>20.69</td>\n",
       "      <td>http://ecx.images-amazon.com/images/I/51fdvJLW...</td>\n",
       "      <td>1458389375</td>\n",
       "      <td>{'also_bought': [], 'buy_after_viewing': []}</td>\n",
       "      <td>[[CDs &amp; Vinyl, Jazz], [CDs &amp; Vinyl, Pop]]</td>\n",
       "      <td>NaN</td>\n",
       "      <td>NaN</td>\n",
       "    </tr>\n",
       "    <tr>\n",
       "      <th>1</th>\n",
       "      <td>Kirtan</td>\n",
       "      <td>22.94</td>\n",
       "      <td>http://ecx.images-amazon.com/images/I/51GGK0zo...</td>\n",
       "      <td>1591791065</td>\n",
       "      <td>{'also_bought': ['B001QSER54', 'B00020HDXU', '...</td>\n",
       "      <td>[[CDs &amp; Vinyl, Classical], [CDs &amp; Vinyl, New A...</td>\n",
       "      <td>{'Music': 89340}</td>\n",
       "      <td>NaN</td>\n",
       "    </tr>\n",
       "    <tr>\n",
       "      <th>2</th>\n",
       "      <td>Rough Guide to Gypsy Music</td>\n",
       "      <td>21.50</td>\n",
       "      <td>http://ecx.images-amazon.com/images/I/51Li1pqK...</td>\n",
       "      <td>1906063443</td>\n",
       "      <td>{'also_bought': ['B0001AV59O'], 'buy_after_vie...</td>\n",
       "      <td>[[CDs &amp; Vinyl, Christian], [CDs &amp; Vinyl, Pop],...</td>\n",
       "      <td>{'Music': 337752}</td>\n",
       "      <td>NaN</td>\n",
       "    </tr>\n",
       "    <tr>\n",
       "      <th>3</th>\n",
       "      <td>Making Lite of Myselrf</td>\n",
       "      <td>16.78</td>\n",
       "      <td>http://ecx.images-amazon.com/images/I/51eW8XLF...</td>\n",
       "      <td>1929243766</td>\n",
       "      <td>{'also_bought': ['B00000AE86', 'B001PWY4I6', '...</td>\n",
       "      <td>[[CDs &amp; Vinyl, Comedy &amp; Spoken Word], [CDs &amp; V...</td>\n",
       "      <td>{'Music': 16578}</td>\n",
       "      <td>NaN</td>\n",
       "    </tr>\n",
       "    <tr>\n",
       "      <th>4</th>\n",
       "      <td>In the Quiet</td>\n",
       "      <td>21.15</td>\n",
       "      <td>http://ecx.images-amazon.com/images/I/41F5hqeP...</td>\n",
       "      <td>1930864159</td>\n",
       "      <td>{'also_bought': [], 'buy_after_viewing': []}</td>\n",
       "      <td>[[CDs &amp; Vinyl, Christian, Pop &amp; Contemporary],...</td>\n",
       "      <td>{'Music': 102498}</td>\n",
       "      <td>NaN</td>\n",
       "    </tr>\n",
       "    <tr>\n",
       "      <th>...</th>\n",
       "      <td>...</td>\n",
       "      <td>...</td>\n",
       "      <td>...</td>\n",
       "      <td>...</td>\n",
       "      <td>...</td>\n",
       "      <td>...</td>\n",
       "      <td>...</td>\n",
       "      <td>...</td>\n",
       "    </tr>\n",
       "    <tr>\n",
       "      <th>31466</th>\n",
       "      <td>NaN</td>\n",
       "      <td>NaN</td>\n",
       "      <td>http://ecx.images-amazon.com/images/I/21o%2B73...</td>\n",
       "      <td>B00JVSIMLQ</td>\n",
       "      <td>{'also_bought': [], 'buy_after_viewing': []}</td>\n",
       "      <td>[[CDs &amp; Vinyl, Latin Music, Latin Pop]]</td>\n",
       "      <td>{'Music': 1217044}</td>\n",
       "      <td>NaN</td>\n",
       "    </tr>\n",
       "    <tr>\n",
       "      <th>31467</th>\n",
       "      <td>NaN</td>\n",
       "      <td>NaN</td>\n",
       "      <td>http://ecx.images-amazon.com/images/I/316q03mN...</td>\n",
       "      <td>B00KDL9TTE</td>\n",
       "      <td>{'also_bought': [], 'buy_after_viewing': []}</td>\n",
       "      <td>[[CDs &amp; Vinyl, Pop, Easy Listening]]</td>\n",
       "      <td>NaN</td>\n",
       "      <td>NaN</td>\n",
       "    </tr>\n",
       "    <tr>\n",
       "      <th>31468</th>\n",
       "      <td>NaN</td>\n",
       "      <td>34.45</td>\n",
       "      <td>http://ecx.images-amazon.com/images/I/51UgnZe%...</td>\n",
       "      <td>B00KE5M5IQ</td>\n",
       "      <td>{'also_bought': [], 'bought_together': ['B00K6...</td>\n",
       "      <td>[[CDs &amp; Vinyl, Latin Music, Latin Pop]]</td>\n",
       "      <td>{'Music': 7262}</td>\n",
       "      <td>NaN</td>\n",
       "    </tr>\n",
       "    <tr>\n",
       "      <th>31469</th>\n",
       "      <td>NaN</td>\n",
       "      <td>15.39</td>\n",
       "      <td>http://ecx.images-amazon.com/images/I/51obnT4n...</td>\n",
       "      <td>B00KG10ZXU</td>\n",
       "      <td>{'also_bought': [], 'also_viewed': ['B00000265...</td>\n",
       "      <td>[[CDs &amp; Vinyl, Broadway &amp; Vocalists], [CDs &amp; V...</td>\n",
       "      <td>{'Music': 15508}</td>\n",
       "      <td>NaN</td>\n",
       "    </tr>\n",
       "    <tr>\n",
       "      <th>31470</th>\n",
       "      <td>NaN</td>\n",
       "      <td>NaN</td>\n",
       "      <td>http://ecx.images-amazon.com/images/I/51cOvY8o...</td>\n",
       "      <td>B00KOEQSTY</td>\n",
       "      <td>{'also_bought': [], 'buy_after_viewing': []}</td>\n",
       "      <td>[[CDs &amp; Vinyl, Pop], [CDs &amp; Vinyl, Rock]]</td>\n",
       "      <td>{'Music': 101106}</td>\n",
       "      <td>NaN</td>\n",
       "    </tr>\n",
       "  </tbody>\n",
       "</table>\n",
       "<p>31471 rows × 8 columns</p>\n",
       "</div>"
      ],
      "text/plain": [
       "                            title  price  \\\n",
       "0                    Comfort Zone  20.69   \n",
       "1                          Kirtan  22.94   \n",
       "2      Rough Guide to Gypsy Music  21.50   \n",
       "3          Making Lite of Myselrf  16.78   \n",
       "4                    In the Quiet  21.15   \n",
       "...                           ...    ...   \n",
       "31466                         NaN    NaN   \n",
       "31467                         NaN    NaN   \n",
       "31468                         NaN  34.45   \n",
       "31469                         NaN  15.39   \n",
       "31470                         NaN    NaN   \n",
       "\n",
       "                                                   imUrl   amazon_id  \\\n",
       "0      http://ecx.images-amazon.com/images/I/51fdvJLW...  1458389375   \n",
       "1      http://ecx.images-amazon.com/images/I/51GGK0zo...  1591791065   \n",
       "2      http://ecx.images-amazon.com/images/I/51Li1pqK...  1906063443   \n",
       "3      http://ecx.images-amazon.com/images/I/51eW8XLF...  1929243766   \n",
       "4      http://ecx.images-amazon.com/images/I/41F5hqeP...  1930864159   \n",
       "...                                                  ...         ...   \n",
       "31466  http://ecx.images-amazon.com/images/I/21o%2B73...  B00JVSIMLQ   \n",
       "31467  http://ecx.images-amazon.com/images/I/316q03mN...  B00KDL9TTE   \n",
       "31468  http://ecx.images-amazon.com/images/I/51UgnZe%...  B00KE5M5IQ   \n",
       "31469  http://ecx.images-amazon.com/images/I/51obnT4n...  B00KG10ZXU   \n",
       "31470  http://ecx.images-amazon.com/images/I/51cOvY8o...  B00KOEQSTY   \n",
       "\n",
       "                                                 related  \\\n",
       "0           {'also_bought': [], 'buy_after_viewing': []}   \n",
       "1      {'also_bought': ['B001QSER54', 'B00020HDXU', '...   \n",
       "2      {'also_bought': ['B0001AV59O'], 'buy_after_vie...   \n",
       "3      {'also_bought': ['B00000AE86', 'B001PWY4I6', '...   \n",
       "4           {'also_bought': [], 'buy_after_viewing': []}   \n",
       "...                                                  ...   \n",
       "31466       {'also_bought': [], 'buy_after_viewing': []}   \n",
       "31467       {'also_bought': [], 'buy_after_viewing': []}   \n",
       "31468  {'also_bought': [], 'bought_together': ['B00K6...   \n",
       "31469  {'also_bought': [], 'also_viewed': ['B00000265...   \n",
       "31470       {'also_bought': [], 'buy_after_viewing': []}   \n",
       "\n",
       "                                              categories           salesRank  \\\n",
       "0              [[CDs & Vinyl, Jazz], [CDs & Vinyl, Pop]]                 NaN   \n",
       "1      [[CDs & Vinyl, Classical], [CDs & Vinyl, New A...    {'Music': 89340}   \n",
       "2      [[CDs & Vinyl, Christian], [CDs & Vinyl, Pop],...   {'Music': 337752}   \n",
       "3      [[CDs & Vinyl, Comedy & Spoken Word], [CDs & V...    {'Music': 16578}   \n",
       "4      [[CDs & Vinyl, Christian, Pop & Contemporary],...   {'Music': 102498}   \n",
       "...                                                  ...                 ...   \n",
       "31466            [[CDs & Vinyl, Latin Music, Latin Pop]]  {'Music': 1217044}   \n",
       "31467               [[CDs & Vinyl, Pop, Easy Listening]]                 NaN   \n",
       "31468            [[CDs & Vinyl, Latin Music, Latin Pop]]     {'Music': 7262}   \n",
       "31469  [[CDs & Vinyl, Broadway & Vocalists], [CDs & V...    {'Music': 15508}   \n",
       "31470          [[CDs & Vinyl, Pop], [CDs & Vinyl, Rock]]   {'Music': 101106}   \n",
       "\n",
       "      brand  \n",
       "0       NaN  \n",
       "1       NaN  \n",
       "2       NaN  \n",
       "3       NaN  \n",
       "4       NaN  \n",
       "...     ...  \n",
       "31466   NaN  \n",
       "31467   NaN  \n",
       "31468   NaN  \n",
       "31469   NaN  \n",
       "31470   NaN  \n",
       "\n",
       "[31471 rows x 8 columns]"
      ]
     },
     "metadata": {},
     "output_type": "display_data"
    }
   ],
   "source": [
    "display(df_img)"
   ]
  },
  {
   "cell_type": "code",
   "execution_count": 101,
   "id": "fe3fa16b-2c41-40a1-bd34-de8397dc26d0",
   "metadata": {},
   "outputs": [],
   "source": [
    "df_in_the_quiet = df_img[df_img['title']=='In the Quiet']"
   ]
  },
  {
   "cell_type": "code",
   "execution_count": 110,
   "id": "b0b693f3-dece-4ee3-8b37-f5a9673e74e0",
   "metadata": {},
   "outputs": [
    {
     "data": {
      "text/plain": [
       "'http://ecx.images-amazon.com/images/I/41F5hqePyOL._SY300_.jpg'"
      ]
     },
     "execution_count": 110,
     "metadata": {},
     "output_type": "execute_result"
    }
   ],
   "source": [
    "df_img.loc[4,:]['imUrl']"
   ]
  },
  {
   "cell_type": "code",
   "execution_count": 111,
   "id": "b24ff29e-3a07-4555-9aca-3647fe8b250c",
   "metadata": {},
   "outputs": [
    {
     "data": {
      "text/html": [
       "<div>\n",
       "<style scoped>\n",
       "    .dataframe tbody tr th:only-of-type {\n",
       "        vertical-align: middle;\n",
       "    }\n",
       "\n",
       "    .dataframe tbody tr th {\n",
       "        vertical-align: top;\n",
       "    }\n",
       "\n",
       "    .dataframe thead th {\n",
       "        text-align: right;\n",
       "    }\n",
       "</style>\n",
       "<table border=\"1\" class=\"dataframe\">\n",
       "  <thead>\n",
       "    <tr style=\"text-align: right;\">\n",
       "      <th></th>\n",
       "      <th>amazon_id</th>\n",
       "      <th>album_mbid</th>\n",
       "      <th>MSD_track_id</th>\n",
       "      <th>recording_mbid</th>\n",
       "      <th>artist_mbid</th>\n",
       "      <th>genres</th>\n",
       "    </tr>\n",
       "  </thead>\n",
       "  <tbody>\n",
       "    <tr>\n",
       "      <th>0</th>\n",
       "      <td>B00005YQOV</td>\n",
       "      <td>77944b8c-f753-4c7c-84ba-a48fbf518667</td>\n",
       "      <td>TRJIKJU128F930BF28</td>\n",
       "      <td>68c38213-65ba-4c1e-ac20-76883b512993</td>\n",
       "      <td>0a6f37da-2a2a-4308-896a-7c34b968b0b3</td>\n",
       "      <td>Vocal Jazz,Jazz,Traditional Vocal Pop,Pop,Mode...</td>\n",
       "    </tr>\n",
       "    <tr>\n",
       "      <th>1</th>\n",
       "      <td>B00005YQOV</td>\n",
       "      <td>77944b8c-f753-4c7c-84ba-a48fbf518667</td>\n",
       "      <td>TRLCVKT128F930BF18</td>\n",
       "      <td>f5c25488-4fbc-4ade-9cd4-431ae3fe3737</td>\n",
       "      <td>0a6f37da-2a2a-4308-896a-7c34b968b0b3</td>\n",
       "      <td>Vocal Jazz,Jazz,Traditional Vocal Pop,Pop,Mode...</td>\n",
       "    </tr>\n",
       "    <tr>\n",
       "      <th>2</th>\n",
       "      <td>B00005YQOV</td>\n",
       "      <td>77944b8c-f753-4c7c-84ba-a48fbf518667</td>\n",
       "      <td>TRBQSIG128F930BEFC</td>\n",
       "      <td>e76bbfcc-f94a-425d-bf13-d4e8d32df173</td>\n",
       "      <td>0a6f37da-2a2a-4308-896a-7c34b968b0b3</td>\n",
       "      <td>Vocal Jazz,Jazz,Traditional Vocal Pop,Pop,Mode...</td>\n",
       "    </tr>\n",
       "    <tr>\n",
       "      <th>3</th>\n",
       "      <td>B00005YQOV</td>\n",
       "      <td>77944b8c-f753-4c7c-84ba-a48fbf518667</td>\n",
       "      <td>TRGQLER128F930BF59</td>\n",
       "      <td>9def0715-4be3-4755-b546-f0335e03447b</td>\n",
       "      <td>0a6f37da-2a2a-4308-896a-7c34b968b0b3</td>\n",
       "      <td>Vocal Jazz,Jazz,Traditional Vocal Pop,Pop,Mode...</td>\n",
       "    </tr>\n",
       "    <tr>\n",
       "      <th>4</th>\n",
       "      <td>B00005YQOV</td>\n",
       "      <td>77944b8c-f753-4c7c-84ba-a48fbf518667</td>\n",
       "      <td>TRQPGRM128F930BEEA</td>\n",
       "      <td>9fe52229-a318-499e-af96-0903294366b1</td>\n",
       "      <td>0a6f37da-2a2a-4308-896a-7c34b968b0b3</td>\n",
       "      <td>Vocal Jazz,Jazz,Traditional Vocal Pop,Pop,Mode...</td>\n",
       "    </tr>\n",
       "    <tr>\n",
       "      <th>...</th>\n",
       "      <td>...</td>\n",
       "      <td>...</td>\n",
       "      <td>...</td>\n",
       "      <td>...</td>\n",
       "      <td>...</td>\n",
       "      <td>...</td>\n",
       "    </tr>\n",
       "    <tr>\n",
       "      <th>147290</th>\n",
       "      <td>B00004NH92</td>\n",
       "      <td>31d692d2-c9a5-3637-bc59-9becba83bbd3</td>\n",
       "      <td>TRNEHCV128F930CE23</td>\n",
       "      <td>533f353a-5ebe-409e-b854-92c34b9c6619</td>\n",
       "      <td>b8282669-ab13-40c2-a01e-acbb9cf64981</td>\n",
       "      <td>R&amp;B,Jazz,Pop,Dance &amp; Electronic,Jazz Jam Bands...</td>\n",
       "    </tr>\n",
       "    <tr>\n",
       "      <th>147291</th>\n",
       "      <td>B00004NH92</td>\n",
       "      <td>31d692d2-c9a5-3637-bc59-9becba83bbd3</td>\n",
       "      <td>TRXXOQB128F930CE17</td>\n",
       "      <td>7381e598-78c7-4eb8-88f2-1b38eb439014</td>\n",
       "      <td>b8282669-ab13-40c2-a01e-acbb9cf64981</td>\n",
       "      <td>R&amp;B,Jazz,Pop,Dance &amp; Electronic,Jazz Jam Bands...</td>\n",
       "    </tr>\n",
       "    <tr>\n",
       "      <th>147292</th>\n",
       "      <td>B00004NH92</td>\n",
       "      <td>31d692d2-c9a5-3637-bc59-9becba83bbd3</td>\n",
       "      <td>TRQHKOT128F930CE20</td>\n",
       "      <td>1cc31fb3-24d2-4460-804c-968446af5677</td>\n",
       "      <td>b8282669-ab13-40c2-a01e-acbb9cf64981</td>\n",
       "      <td>R&amp;B,Jazz,Pop,Dance &amp; Electronic,Jazz Jam Bands...</td>\n",
       "    </tr>\n",
       "    <tr>\n",
       "      <th>147293</th>\n",
       "      <td>B00004NH92</td>\n",
       "      <td>31d692d2-c9a5-3637-bc59-9becba83bbd3</td>\n",
       "      <td>TRTAIPQ128F930CE1B</td>\n",
       "      <td>ad8cede6-a437-4a2c-8a69-7a92b7e486f0</td>\n",
       "      <td>b8282669-ab13-40c2-a01e-acbb9cf64981</td>\n",
       "      <td>R&amp;B,Jazz,Pop,Dance &amp; Electronic,Jazz Jam Bands...</td>\n",
       "    </tr>\n",
       "    <tr>\n",
       "      <th>147294</th>\n",
       "      <td>B0008D5L4Y</td>\n",
       "      <td>51d88da7-6763-3530-8d7e-2b3f600558a5</td>\n",
       "      <td>TRJLVFG128F4285E8A</td>\n",
       "      <td>f8e92ff7-58b4-4111-a8f7-41e69a63ddea</td>\n",
       "      <td>b85ea783-e44f-4010-b62c-a39840699c4a</td>\n",
       "      <td>Electronica,Trance,Pop,Dance &amp; Electronic,Tech...</td>\n",
       "    </tr>\n",
       "  </tbody>\n",
       "</table>\n",
       "<p>147295 rows × 6 columns</p>\n",
       "</div>"
      ],
      "text/plain": [
       "         amazon_id                            album_mbid        MSD_track_id  \\\n",
       "0       B00005YQOV  77944b8c-f753-4c7c-84ba-a48fbf518667  TRJIKJU128F930BF28   \n",
       "1       B00005YQOV  77944b8c-f753-4c7c-84ba-a48fbf518667  TRLCVKT128F930BF18   \n",
       "2       B00005YQOV  77944b8c-f753-4c7c-84ba-a48fbf518667  TRBQSIG128F930BEFC   \n",
       "3       B00005YQOV  77944b8c-f753-4c7c-84ba-a48fbf518667  TRGQLER128F930BF59   \n",
       "4       B00005YQOV  77944b8c-f753-4c7c-84ba-a48fbf518667  TRQPGRM128F930BEEA   \n",
       "...            ...                                   ...                 ...   \n",
       "147290  B00004NH92  31d692d2-c9a5-3637-bc59-9becba83bbd3  TRNEHCV128F930CE23   \n",
       "147291  B00004NH92  31d692d2-c9a5-3637-bc59-9becba83bbd3  TRXXOQB128F930CE17   \n",
       "147292  B00004NH92  31d692d2-c9a5-3637-bc59-9becba83bbd3  TRQHKOT128F930CE20   \n",
       "147293  B00004NH92  31d692d2-c9a5-3637-bc59-9becba83bbd3  TRTAIPQ128F930CE1B   \n",
       "147294  B0008D5L4Y  51d88da7-6763-3530-8d7e-2b3f600558a5  TRJLVFG128F4285E8A   \n",
       "\n",
       "                              recording_mbid  \\\n",
       "0       68c38213-65ba-4c1e-ac20-76883b512993   \n",
       "1       f5c25488-4fbc-4ade-9cd4-431ae3fe3737   \n",
       "2       e76bbfcc-f94a-425d-bf13-d4e8d32df173   \n",
       "3       9def0715-4be3-4755-b546-f0335e03447b   \n",
       "4       9fe52229-a318-499e-af96-0903294366b1   \n",
       "...                                      ...   \n",
       "147290  533f353a-5ebe-409e-b854-92c34b9c6619   \n",
       "147291  7381e598-78c7-4eb8-88f2-1b38eb439014   \n",
       "147292  1cc31fb3-24d2-4460-804c-968446af5677   \n",
       "147293  ad8cede6-a437-4a2c-8a69-7a92b7e486f0   \n",
       "147294  f8e92ff7-58b4-4111-a8f7-41e69a63ddea   \n",
       "\n",
       "                                 artist_mbid  \\\n",
       "0       0a6f37da-2a2a-4308-896a-7c34b968b0b3   \n",
       "1       0a6f37da-2a2a-4308-896a-7c34b968b0b3   \n",
       "2       0a6f37da-2a2a-4308-896a-7c34b968b0b3   \n",
       "3       0a6f37da-2a2a-4308-896a-7c34b968b0b3   \n",
       "4       0a6f37da-2a2a-4308-896a-7c34b968b0b3   \n",
       "...                                      ...   \n",
       "147290  b8282669-ab13-40c2-a01e-acbb9cf64981   \n",
       "147291  b8282669-ab13-40c2-a01e-acbb9cf64981   \n",
       "147292  b8282669-ab13-40c2-a01e-acbb9cf64981   \n",
       "147293  b8282669-ab13-40c2-a01e-acbb9cf64981   \n",
       "147294  b85ea783-e44f-4010-b62c-a39840699c4a   \n",
       "\n",
       "                                                   genres  \n",
       "0       Vocal Jazz,Jazz,Traditional Vocal Pop,Pop,Mode...  \n",
       "1       Vocal Jazz,Jazz,Traditional Vocal Pop,Pop,Mode...  \n",
       "2       Vocal Jazz,Jazz,Traditional Vocal Pop,Pop,Mode...  \n",
       "3       Vocal Jazz,Jazz,Traditional Vocal Pop,Pop,Mode...  \n",
       "4       Vocal Jazz,Jazz,Traditional Vocal Pop,Pop,Mode...  \n",
       "...                                                   ...  \n",
       "147290  R&B,Jazz,Pop,Dance & Electronic,Jazz Jam Bands...  \n",
       "147291  R&B,Jazz,Pop,Dance & Electronic,Jazz Jam Bands...  \n",
       "147292  R&B,Jazz,Pop,Dance & Electronic,Jazz Jam Bands...  \n",
       "147293  R&B,Jazz,Pop,Dance & Electronic,Jazz Jam Bands...  \n",
       "147294  Electronica,Trance,Pop,Dance & Electronic,Tech...  \n",
       "\n",
       "[147295 rows x 6 columns]"
      ]
     },
     "execution_count": 111,
     "metadata": {},
     "output_type": "execute_result"
    }
   ],
   "source": [
    "df_full = pd.read_csv('MuMu_dataset/MuMu_dataset_multi-label.csv')"
   ]
  },
  {
   "cell_type": "code",
   "execution_count": null,
   "id": "45cccdb7-cb45-4420-9376-fd89d70c532e",
   "metadata": {},
   "outputs": [],
   "source": []
  }
 ],
 "metadata": {
  "kernelspec": {
   "display_name": "Python 3",
   "language": "python",
   "name": "python3"
  },
  "language_info": {
   "codemirror_mode": {
    "name": "ipython",
    "version": 3
   },
   "file_extension": ".py",
   "mimetype": "text/x-python",
   "name": "python",
   "nbconvert_exporter": "python",
   "pygments_lexer": "ipython3",
   "version": "3.8.8"
  }
 },
 "nbformat": 4,
 "nbformat_minor": 5
}
